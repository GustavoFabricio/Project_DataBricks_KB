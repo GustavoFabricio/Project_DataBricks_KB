{
 "cells": [
  {
   "cell_type": "markdown",
   "metadata": {},
   "source": [
    "# Six Degrees of Kevin Bacon\n",
    "**Introduction** - Six Degrees of Kevin Bacon is a game based on the \"six degrees of separation\"\n",
    "concept, which posits that any two people on Earth are six or fewer acquaintance links apart. Movie\n",
    "buffs challenge each other to find the shortest path between an arbitrary actor and prolific actor\n",
    "Kevin Bacon. It rests on the assumption that anyone involved in the film industry can be linked\n",
    "through their film roles to Bacon within six steps.\n",
    "The analysis of social networks can be a computationally intensive task, especially when dealing with\n",
    "large volumes of data. It is also a challenging problem to devise a correct methodology to infer an\n",
    "informative social network structure. Here, we will analyze a social network of actors and actresses\n",
    "that co-participated in movies. We will do some simple descriptive analysis, and in the end try to\n",
    "relate an actor/actress’s position in the social network with the success of the movies in which they\n",
    "participate.\n",
    "\n",
    "####Rules & Notes - Please take your time to read the following points:\n",
    "2. The submission deadline will be set for the 30th of May at 23:59h.\n",
    "3. It is acceptable that you **discuss** with your colleagues different approaches to solve each step of the problem set, but the assignment is individual. That is, you are responsible for writing your own code, and analyzing the results. Clear cases of cheating will be penalized with 0 points in this assignment.\n",
    "4. After review of your submission files, and before a mark is attributed, you might be called to orally defend your submission.\n",
    "5. You will be scored first and foremost by the number of correct answers, secondly by the logic used in trying to approach each step of the problem set.\n",
    "1. You can add as many cells as you like to answer the questions.\n",
    "1. It is also important you clearly indicate what your final answer to each question is when you are using multiple cells (for example you can use `print(\"My final anwser is:\")` before your answer or use cell comments).\n",
    "11. Consider skipping questions that you are stuck on, and get back to them later.\n",
    "12. Expect computations to take a few minutes to finish in some of the steps.\n",
    "1. It is recommended you read the whole assignment before starting.\n",
    "1. You can make use of caching or persisting your RDDs or Dataframes, this may speed up performance. You do not need to cache every dataframe, but usually you want to do this at least once after the data has been imported.\n",
    "1. If you have trouble with graphframes in databricks (specifically the import statement) you need to make sure the graphframes package is installed on the cluster you are running. If you click home on the left, then click on the graphframes library which you loaded in Lab 11 you can install the package on your cluster (check the graphframes checkbox and click install)\n",
    "1. Be careful, you must not 'Publish' this notebook in databricks.\n",
    "13. **IMPORTANT** It is expected you have developed skills beyond writing SQL queries. Any question where you directly write a SQL query (by for example creating a temporary view and then using spark.sql to pass the query) will receive a 25% penalty. Using the spark syntax (for example dataframe.select(\"\\*\").where(\"conditions\")) is acceptable and does not incur this penalty.\n",
    "13. **Questions** – Any questions about this assignment should be posted in the Forum@Moodle. Questions by e-mail will not be answered. The lab will run at the normal time. During this period you can ask any questions you have about the exam (we can't provide you the actual answers of course, but there may be helpful tips if you are stuck on any of the steps). As such, it is probably useful to attempt the assignment before the scheduled lab.\n",
    "14. **Delivery** - To fulfil this activity you will have to upload the following materials to Moodle:\n",
    " - An exported IPython notebook. From the menu at the top, select 'File', then 'Export', then 'IPython Notebook', to download the notebook. The notebook should be solved (have results displayed), but should contain all necessary code so that when the notebook is run in databricks it should also replicate these results. This means that all data downloading and processing should be done in this notebook. It is also important you clearly indicate where your final answer to each question is when you are using multiple cells (for example you can us `print(\"My final answer is:\")` before your answer or use cell comments).\n",
    " - A PDF version of your code and answers. There are a couple of ways you can do this. You can convert the downloaded IPython Notebook to pdf (check out nbconvert if you have Jupyter notebook), or you can just copy your code and answers into a word file and save as pdf, or finally you can take screenshots of each page of the notebook and put them into a word file and save it as pdf. It is important that all code and aswers are visible in this pdf.\n",
    "  - You will also need to provide a signed statement of authorship, which is available on Moodle.\n",
    "\n",
    "\n",
    "####Data Sources and Description\n",
    "We will use data from IMDB. You can download raw datafiles\n",
    "from https://datasets.imdbws.com. Note that the files are tab delimited (.tsv) You can find a\n",
    "description of the each datafile in https://www.imdb.com/interfaces/"
   ]
  },
  {
   "cell_type": "markdown",
   "metadata": {},
   "source": [
    "## Questions\n",
    "### Data loading and preperation\n",
    "Review the file descriptions and load the necessary data into your databricks cluser and into spark dataframes or rdds. You will need to use shell commands to download the data, unzip the data, load the data into spark. Note that the data might require parsing and preprocessing to be ready for the questions below.\n",
    "\n",
    "**Hints** You can use `gunzip` to unzip the .tz files. The data files will then be tab seperated (.tsv), which you can load into a dataframe using the tab seperated option instead of the comma seperated option we have typically used in class: `.option(“sep”,”\\t”)`"
   ]
  },
  {
   "cell_type": "markdown",
   "metadata": {},
   "source": [
    "**Libraries**"
   ]
  },
  {
   "cell_type": "code",
   "execution_count": 4,
   "metadata": {},
   "outputs": [
    {
     "data": {
      "text/html": [
       "<style scoped>\n",
       "  .ansiout {\n",
       "    display: block;\n",
       "    unicode-bidi: embed;\n",
       "    white-space: pre-wrap;\n",
       "    word-wrap: break-word;\n",
       "    word-break: break-all;\n",
       "    font-family: \"Source Code Pro\", \"Menlo\", monospace;;\n",
       "    font-size: 13px;\n",
       "    color: #555;\n",
       "    margin-left: 4px;\n",
       "    line-height: 19px;\n",
       "  }\n",
       "</style>\n",
       "<div class=\"ansiout\"></div>"
      ]
     },
     "metadata": {},
     "output_type": "display_data"
    }
   ],
   "source": [
    "from pyspark import StorageLevel\n",
    "from pyspark.sql.functions import when, lit, col\n",
    "from pyspark.sql.types import *\n",
    "from pyspark.sql import Row\n",
    "from graphframes import *\n",
    "import graphframes.graphframe as gfm\n",
    "from pyspark.ml.feature import VectorAssembler, VectorIndexer"
   ]
  },
  {
   "cell_type": "markdown",
   "metadata": {},
   "source": [
    "**Download gz files**"
   ]
  },
  {
   "cell_type": "code",
   "execution_count": 6,
   "metadata": {},
   "outputs": [
    {
     "data": {
      "text/html": [
       "<style scoped>\n",
       "  .ansiout {\n",
       "    display: block;\n",
       "    unicode-bidi: embed;\n",
       "    white-space: pre-wrap;\n",
       "    word-wrap: break-word;\n",
       "    word-break: break-all;\n",
       "    font-family: \"Source Code Pro\", \"Menlo\", monospace;;\n",
       "    font-size: 13px;\n",
       "    color: #555;\n",
       "    margin-left: 4px;\n",
       "    line-height: 19px;\n",
       "  }\n",
       "</style>\n",
       "<div class=\"ansiout\"></div>"
      ]
     },
     "metadata": {},
     "output_type": "display_data"
    }
   ],
   "source": [
    "%sh \n",
    "wget --quiet https://datasets.imdbws.com/name.basics.tsv.gz\n",
    "wget --quiet https://datasets.imdbws.com/title.basics.tsv.gz\n",
    "wget --quiet https://datasets.imdbws.com/title.akas.tsv.gz\n",
    "wget  --quiet https://datasets.imdbws.com/title.principals.tsv.gz\n",
    "wget  --quiet https://datasets.imdbws.com/title.ratings.tsv.gz\n"
   ]
  },
  {
   "cell_type": "markdown",
   "metadata": {},
   "source": [
    "**unzip**"
   ]
  },
  {
   "cell_type": "code",
   "execution_count": 8,
   "metadata": {},
   "outputs": [
    {
     "data": {
      "text/html": [
       "<style scoped>\n",
       "  .ansiout {\n",
       "    display: block;\n",
       "    unicode-bidi: embed;\n",
       "    white-space: pre-wrap;\n",
       "    word-wrap: break-word;\n",
       "    word-break: break-all;\n",
       "    font-family: \"Source Code Pro\", \"Menlo\", monospace;;\n",
       "    font-size: 13px;\n",
       "    color: #555;\n",
       "    margin-left: 4px;\n",
       "    line-height: 19px;\n",
       "  }\n",
       "</style>\n",
       "<div class=\"ansiout\"></div>"
      ]
     },
     "metadata": {},
     "output_type": "display_data"
    }
   ],
   "source": [
    "%sh \n",
    "gunzip name.basics.tsv.gz\n",
    "gunzip title.akas.tsv.gz\n",
    "gunzip title.basics.tsv.gz\n",
    "gunzip title.principals.tsv.gz\n",
    "gunzip title.ratings.tsv.gz"
   ]
  },
  {
   "cell_type": "markdown",
   "metadata": {},
   "source": [
    "**creating data frames**"
   ]
  },
  {
   "cell_type": "code",
   "execution_count": 10,
   "metadata": {},
   "outputs": [
    {
     "data": {
      "text/html": [
       "<style scoped>\n",
       "  .ansiout {\n",
       "    display: block;\n",
       "    unicode-bidi: embed;\n",
       "    white-space: pre-wrap;\n",
       "    word-wrap: break-word;\n",
       "    word-break: break-all;\n",
       "    font-family: \"Source Code Pro\", \"Menlo\", monospace;;\n",
       "    font-size: 13px;\n",
       "    color: #555;\n",
       "    margin-left: 4px;\n",
       "    line-height: 19px;\n",
       "  }\n",
       "</style>\n",
       "<div class=\"ansiout\"></div>"
      ]
     },
     "metadata": {},
     "output_type": "display_data"
    }
   ],
   "source": [
    "df_name_basics      = spark.read.option(\"sep\", \"\\t\").csv('file:/databricks/driver/name.basics.tsv',      header=True, inferSchema = True)\n",
    "df_title_akas       = spark.read.option(\"sep\", \"\\t\").csv('file:/databricks/driver/title.akas.tsv',    header=True, inferSchema = True)\n",
    "df_title_basics     = spark.read.option(\"sep\", \"\\t\").csv('file:/databricks/driver/title.basics.tsv',     header=True, inferSchema = True)\n",
    "df_title_principals = spark.read.option(\"sep\", \"\\t\").csv('file:/databricks/driver/title.principals.tsv', header=True, inferSchema = True)\n",
    "df_title_ratings    = spark.read.option(\"sep\", \"\\t\").csv('file:/databricks/driver/title.ratings.tsv',    header=True, inferSchema = True)\n"
   ]
  },
  {
   "cell_type": "code",
   "execution_count": 11,
   "metadata": {},
   "outputs": [
    {
     "data": {
      "text/html": [
       "<style scoped>\n",
       "  .ansiout {\n",
       "    display: block;\n",
       "    unicode-bidi: embed;\n",
       "    white-space: pre-wrap;\n",
       "    word-wrap: break-word;\n",
       "    word-break: break-all;\n",
       "    font-family: \"Source Code Pro\", \"Menlo\", monospace;;\n",
       "    font-size: 13px;\n",
       "    color: #555;\n",
       "    margin-left: 4px;\n",
       "    line-height: 19px;\n",
       "  }\n",
       "</style>\n",
       "<div class=\"ansiout\">Out[8]: DataFrame[tconst: string, averageRating: double, numVotes: int]</div>"
      ]
     },
     "metadata": {},
     "output_type": "display_data"
    }
   ],
   "source": [
    "df_name_basics.cache()\n",
    "df_title_akas.cache()\n",
    "df_title_basics.cache()    \n",
    "df_title_principals.cache()\n",
    "df_title_ratings.cache()  "
   ]
  },
  {
   "cell_type": "code",
   "execution_count": 12,
   "metadata": {},
   "outputs": [
    {
     "data": {
      "text/html": [
       "<style scoped>\n",
       "  .ansiout {\n",
       "    display: block;\n",
       "    unicode-bidi: embed;\n",
       "    white-space: pre-wrap;\n",
       "    word-wrap: break-word;\n",
       "    word-break: break-all;\n",
       "    font-family: \"Source Code Pro\", \"Menlo\", monospace;;\n",
       "    font-size: 13px;\n",
       "    color: #555;\n",
       "    margin-left: 4px;\n",
       "    line-height: 19px;\n",
       "  }\n",
       "</style>\n",
       "<div class=\"ansiout\">+---------+---------------+---------+---------+--------------------+--------------------+\n",
       "   nconst|    primaryName|birthYear|deathYear|   primaryProfession|      knownForTitles|\n",
       "+---------+---------------+---------+---------+--------------------+--------------------+\n",
       "nm0000001|   Fred Astaire|     1899|     1987|soundtrack,actor,...|tt0043044,tt00531...|\n",
       "nm0000002|  Lauren Bacall|     1924|     2014|  actress,soundtrack|tt0071877,tt01170...|\n",
       "nm0000003|Brigitte Bardot|     1934|       \\N|actress,soundtrac...|tt0054452,tt00491...|\n",
       "nm0000004|   John Belushi|     1949|     1982|actor,soundtrack,...|tt0072562,tt00804...|\n",
       "+---------+---------------+---------+---------+--------------------+--------------------+\n",
       "only showing top 4 rows\n",
       "\n",
       "+---------+--------+--------------------+------+--------+-----------+-------------+---------------+\n",
       "  titleId|ordering|               title|region|language|      types|   attributes|isOriginalTitle|\n",
       "+---------+--------+--------------------+------+--------+-----------+-------------+---------------+\n",
       "tt0000001|       1|          Карменсіта|    UA|      \\N|imdbDisplay|           \\N|              0|\n",
       "tt0000001|       2|          Carmencita|    DE|      \\N|         \\N|literal title|              0|\n",
       "tt0000001|       3|Carmencita - span...|    HU|      \\N|imdbDisplay|           \\N|              0|\n",
       "tt0000001|       4|          Καρμενσίτα|    GR|      \\N|imdbDisplay|           \\N|              0|\n",
       "+---------+--------+--------------------+------+--------+-----------+-------------+---------------+\n",
       "only showing top 4 rows\n",
       "\n",
       "+---------+---------+--------------------+--------------------+-------+---------+-------+--------------+--------------------+\n",
       "   tconst|titleType|        primaryTitle|       originalTitle|isAdult|startYear|endYear|runtimeMinutes|              genres|\n",
       "+---------+---------+--------------------+--------------------+-------+---------+-------+--------------+--------------------+\n",
       "tt0000001|    short|          Carmencita|          Carmencita|      0|     1894|     \\N|             1|   Documentary,Short|\n",
       "tt0000002|    short|Le clown et ses c...|Le clown et ses c...|      0|     1892|     \\N|             5|     Animation,Short|\n",
       "tt0000003|    short|      Pauvre Pierrot|      Pauvre Pierrot|      0|     1892|     \\N|             4|Animation,Comedy,...|\n",
       "tt0000004|    short|         Un bon bock|         Un bon bock|      0|     1892|     \\N|            12|     Animation,Short|\n",
       "+---------+---------+--------------------+--------------------+-------+---------+-------+--------------+--------------------+\n",
       "only showing top 4 rows\n",
       "\n",
       "+---------+--------+---------+---------------+--------------------+----------+\n",
       "   tconst|ordering|   nconst|       category|                 job|characters|\n",
       "+---------+--------+---------+---------------+--------------------+----------+\n",
       "tt0000001|       1|nm1588970|           self|                  \\N|  [&#34;Self&#34;]|\n",
       "tt0000001|       2|nm0005690|       director|                  \\N|        \\N|\n",
       "tt0000001|       3|nm0374658|cinematographer|director of photo...|        \\N|\n",
       "tt0000002|       1|nm0721526|       director|                  \\N|        \\N|\n",
       "+---------+--------+---------+---------------+--------------------+----------+\n",
       "only showing top 4 rows\n",
       "\n",
       "+---------+-------------+--------+\n",
       "   tconst|averageRating|numVotes|\n",
       "+---------+-------------+--------+\n",
       "tt0000001|          5.6|    1617|\n",
       "tt0000002|          6.0|     198|\n",
       "tt0000003|          6.5|    1299|\n",
       "tt0000004|          6.1|     122|\n",
       "+---------+-------------+--------+\n",
       "only showing top 4 rows\n",
       "\n",
       "</div>"
      ]
     },
     "metadata": {},
     "output_type": "display_data"
    }
   ],
   "source": [
    "df_name_basics.show(4)    \n",
    "df_title_akas.show(4)\n",
    "df_title_basics.show(4)    \n",
    "df_title_principals.show(4)\n",
    "df_title_ratings.show(4)   "
   ]
  },
  {
   "cell_type": "markdown",
   "metadata": {},
   "source": [
    "### Network Inference, Let’s build a network\n",
    "In the following questions you will look to summarise the data and build a network. We want to examine a network that abstracts how actors and actress are related through their co-participation in movies. To that end perform the following steps:\n",
    "\n",
    "**Q1** Create a DataFrame that combines the information on each of the titles (i.e., movies, tv-shows, etc …) and the information on the participants in those movies (i.e., actors, directors, etc … ), make sure the actual names of the movies and participants are included. It may be worth reviewing the following questions to see how this dataframe will be used.\n",
    "\n",
    "How many rows does yoru dataframe have?"
   ]
  },
  {
   "cell_type": "code",
   "execution_count": 14,
   "metadata": {},
   "outputs": [
    {
     "data": {
      "text/html": [
       "<style scoped>\n",
       "  .ansiout {\n",
       "    display: block;\n",
       "    unicode-bidi: embed;\n",
       "    white-space: pre-wrap;\n",
       "    word-wrap: break-word;\n",
       "    word-break: break-all;\n",
       "    font-family: \"Source Code Pro\", \"Menlo\", monospace;;\n",
       "    font-size: 13px;\n",
       "    color: #555;\n",
       "    margin-left: 4px;\n",
       "    line-height: 19px;\n",
       "  }\n",
       "</style>\n",
       "<div class=\"ansiout\">+---------+---------+--------+--------+--------+------------------+--------------------+---------+---------+--------------------+--------------------+---------+--------------------+--------------------+-------+---------+-------+--------------+---------------+\n",
       "   tconst|   nconst|ordering|category|     job|        characters|         primaryName|birthYear|deathYear|   primaryProfession|      knownForTitles|titleType|        primaryTitle|       originalTitle|isAdult|startYear|endYear|runtimeMinutes|         genres|\n",
       "+---------+---------+--------+--------+--------+------------------+--------------------+---------+---------+--------------------+--------------------+---------+--------------------+--------------------+-------+---------+-------+--------------+---------------+\n",
       "tt0000658|nm0169871|       1|director|      \\N|                \\N|          Émile Cohl|     1857|     1938|director,writer,a...|tt1003497,tt10035...|    short|The Puppet&#39;s Nigh...|Le cauchemar de F...|      0|     1908|     \\N|             2|Animation,Short|\n",
       "tt0000839|nm0378408|       2|producer|producer|                \\N|   Cecil M. Hepworth|     1873|     1953|cinematographer,p...|tt0000420,tt03082...|    short|  The Curse of Money|  The Curse of Money|      0|     1909|     \\N|            \\N|    Drama,Short|\n",
       "tt0000839|nm0294276|       1|director|      \\N|                \\N|        Theo Frenkel|     1871|     1956|director,actor,wr...|tt0006318,tt00112...|    short|  The Curse of Money|  The Curse of Money|      0|     1909|     \\N|            \\N|    Drama,Short|\n",
       "tt0001170|nm0607104|      10|   actor|      \\N|                \\N|      Chick Morrison|     1878|     1924|               actor|tt0011973,tt00050...|    short|A Cowboy&#39;s Vindic...|A Cowboy&#39;s Vindic...|      0|     1910|     \\N|            \\N|  Short,Western|\n",
       "tt0001170|nm0001908|       1|   actor|      \\N|[&#34;Frank Morrison&#34;]|Gilbert M. &#39;Bronc...|     1880|     1971|director,actor,pr...|tt0183803,tt00024...|    short|A Cowboy&#39;s Vindic...|A Cowboy&#39;s Vindic...|      0|     1910|     \\N|            \\N|  Short,Western|\n",
       "+---------+---------+--------+--------+--------+------------------+--------------------+---------+---------+--------------------+--------------------+---------+--------------------+--------------------+-------+---------+-------+--------------+---------------+\n",
       "only showing top 5 rows\n",
       "\n",
       "Out[6]: DataFrame[tconst: string, nconst: string, ordering: int, category: string, job: string, characters: string, primaryName: string, birthYear: string, deathYear: string, primaryProfession: string, knownForTitles: string, titleType: string, primaryTitle: string, originalTitle: string, isAdult: int, startYear: string, endYear: string, runtimeMinutes: string, genres: string]</div>"
      ]
     },
     "metadata": {},
     "output_type": "display_data"
    }
   ],
   "source": [
    "df_network = df_title_principals.join(df_name_basics, on=['nconst'], how='left') \\\n",
    "                                     .join(df_title_basics, on=['tconst'], how='left')\n",
    "df_network.show(5)\n",
    "df_network.cache()"
   ]
  },
  {
   "cell_type": "code",
   "execution_count": 15,
   "metadata": {},
   "outputs": [
    {
     "data": {
      "text/html": [
       "<style scoped>\n",
       "  .ansiout {\n",
       "    display: block;\n",
       "    unicode-bidi: embed;\n",
       "    white-space: pre-wrap;\n",
       "    word-wrap: break-word;\n",
       "    word-break: break-all;\n",
       "    font-family: \"Source Code Pro\", \"Menlo\", monospace;;\n",
       "    font-size: 13px;\n",
       "    color: #555;\n",
       "    margin-left: 4px;\n",
       "    line-height: 19px;\n",
       "  }\n",
       "</style>\n",
       "<div class=\"ansiout\">Out[7]: 39471189</div>"
      ]
     },
     "metadata": {},
     "output_type": "display_data"
    }
   ],
   "source": [
    "df_network.count()"
   ]
  },
  {
   "cell_type": "markdown",
   "metadata": {},
   "source": [
    "**Q1 My final answer is :** 39.471.189"
   ]
  },
  {
   "cell_type": "markdown",
   "metadata": {},
   "source": [
    "** Q2 ** Create a new DataFrame based on the previous step, with the following removed:\n",
    "1. Any participant that is not an actor or actress (as measured by the category column);\n",
    "1. All adult movies;\n",
    "1. All dead actors or actresses;\n",
    "1. All actors or actresses born before 1920 or with no date of birth listed;\n",
    "1. All titles that are not of the type movie.\n",
    "\n",
    "How many rows does your dataframe have?"
   ]
  },
  {
   "cell_type": "code",
   "execution_count": 18,
   "metadata": {},
   "outputs": [
    {
     "data": {
      "text/html": [
       "<style scoped>\n",
       "  .ansiout {\n",
       "    display: block;\n",
       "    unicode-bidi: embed;\n",
       "    white-space: pre-wrap;\n",
       "    word-wrap: break-word;\n",
       "    word-break: break-all;\n",
       "    font-family: \"Source Code Pro\", \"Menlo\", monospace;;\n",
       "    font-size: 13px;\n",
       "    color: #555;\n",
       "    margin-left: 4px;\n",
       "    line-height: 19px;\n",
       "  }\n",
       "</style>\n",
       "<div class=\"ansiout\"></div>"
      ]
     },
     "metadata": {},
     "output_type": "display_data"
    }
   ],
   "source": [
    "def replace(column, value):\n",
    "    return when(column != value, column).otherwise(lit(None))\n",
    "\n",
    "df_network = df_network.withColumn(\"birthYear\", replace(col(\"birthYear\"), \"\\\\N\")) \\\n",
    "                                  .withColumn(\"deathYear\", replace(col(\"deathYear\"), \"\\\\N\"))\n"
   ]
  },
  {
   "cell_type": "code",
   "execution_count": 19,
   "metadata": {},
   "outputs": [
    {
     "data": {
      "text/html": [
       "<style scoped>\n",
       "  .ansiout {\n",
       "    display: block;\n",
       "    unicode-bidi: embed;\n",
       "    white-space: pre-wrap;\n",
       "    word-wrap: break-word;\n",
       "    word-break: break-all;\n",
       "    font-family: \"Source Code Pro\", \"Menlo\", monospace;;\n",
       "    font-size: 13px;\n",
       "    color: #555;\n",
       "    margin-left: 4px;\n",
       "    line-height: 19px;\n",
       "  }\n",
       "</style>\n",
       "<div class=\"ansiout\">+---------+---------+--------+--------+---+----------------+----------------+---------+---------+--------------------+--------------------+---------+--------------------+--------------------+-------+---------+-------+--------------+-----------------+\n",
       "   tconst|   nconst|ordering|category|job|      characters|     primaryName|birthYear|deathYear|   primaryProfession|      knownForTitles|titleType|        primaryTitle|       originalTitle|isAdult|startYear|endYear|runtimeMinutes|           genres|\n",
       "+---------+---------+--------+--------+---+----------------+----------------+---------+---------+--------------------+--------------------+---------+--------------------+--------------------+-------+---------+-------+--------------+-----------------+\n",
       "tt0036077|nm0788396|       2| actress| \\N|        [&#34;Rani&#34;]|   Mumtaz Shanti|     1926|     null|             actress|tt0040387,tt03758...|    movie|              Kismet|              Kismet|      0|     1943|     \\N|           143|            Drama|\n",
       "tt0036808|nm0936730|       1| actress| \\N|[&#34;Mary Elliott&#34;]|    Jane Withers|     1926|     null|actress,soundtrac...|tt0049261,tt00330...|    movie|    Faces in the Fog|    Faces in the Fog|      0|     1944|     \\N|            71|            Drama|\n",
       "tt0037459|nm0527996|       1|   actor| \\N|  [&#34;Ted Benson&#34;]|     Jimmy Lydon|     1923|     null|actor,producer,mi...|tt0038126,tt00348...|    movie|When the Lights G...|When the Lights G...|      0|     1944|     \\N|            74|Drama,Romance,War|\n",
       "tt0039955|nm0319855|       4| actress| \\N|              \\N|Carolina Jiménez|     1922|     null|actress,miscellan...|tt0339560,tt00416...|    movie|  Un viaje de novios|  Un viaje de novios|      0|     1948|     \\N|            95|               \\N|\n",
       "+---------+---------+--------+--------+---+----------------+----------------+---------+---------+--------------------+--------------------+---------+--------------------+--------------------+-------+---------+-------+--------------+-----------------+\n",
       "only showing top 4 rows\n",
       "\n",
       "</div>"
      ]
     },
     "metadata": {},
     "output_type": "display_data"
    }
   ],
   "source": [
    "df_network_filter = df_network.filter(df_network.category.isin(['actor', 'actress'])) \\\n",
    "                                      .filter(df_network.isAdult != 1) \\\n",
    "                                      .filter(df_network.deathYear.isNull()) \\\n",
    "                                      .filter(df_network.birthYear.isNotNull()) \\\n",
    "                                      .filter(df_network.birthYear >= 1920) \\\n",
    "                                      .filter(df_network.titleType == 'movie')\n",
    "\n",
    "df_network_filter.cache()\n",
    "df_network_filter.show(4)"
   ]
  },
  {
   "cell_type": "code",
   "execution_count": 20,
   "metadata": {},
   "outputs": [
    {
     "data": {
      "text/html": [
       "<style scoped>\n",
       "  .ansiout {\n",
       "    display: block;\n",
       "    unicode-bidi: embed;\n",
       "    white-space: pre-wrap;\n",
       "    word-wrap: break-word;\n",
       "    word-break: break-all;\n",
       "    font-family: \"Source Code Pro\", \"Menlo\", monospace;;\n",
       "    font-size: 13px;\n",
       "    color: #555;\n",
       "    margin-left: 4px;\n",
       "    line-height: 19px;\n",
       "  }\n",
       "</style>\n",
       "<div class=\"ansiout\">Out[10]: 451091</div>"
      ]
     },
     "metadata": {},
     "output_type": "display_data"
    }
   ],
   "source": [
    "df_network_filter.count()"
   ]
  },
  {
   "cell_type": "markdown",
   "metadata": {},
   "source": [
    "\"**Q2 My final answer is :** 451.091"
   ]
  },
  {
   "cell_type": "markdown",
   "metadata": {},
   "source": [
    "**Q3** Convert the above Dataframe to an RDD (you can use `.rdd` to convert a dataframe to and RDD of row objects). Use map and reduce to create a paired RDD which counts how many movies each actor / actress appears in.\n",
    "\n",
    "Display names of the top 10 actors/actresses according to the number of movies in which they appeared. Be careful to deal with different actors / actresses with the same name, these could be different people."
   ]
  },
  {
   "cell_type": "code",
   "execution_count": 23,
   "metadata": {},
   "outputs": [
    {
     "data": {
      "text/html": [
       "<style scoped>\n",
       "  .ansiout {\n",
       "    display: block;\n",
       "    unicode-bidi: embed;\n",
       "    white-space: pre-wrap;\n",
       "    word-wrap: break-word;\n",
       "    word-break: break-all;\n",
       "    font-family: \"Source Code Pro\", \"Menlo\", monospace;;\n",
       "    font-size: 13px;\n",
       "    color: #555;\n",
       "    margin-left: 4px;\n",
       "    line-height: 19px;\n",
       "  }\n",
       "</style>\n",
       "<div class=\"ansiout\">Out[11]: [[&#39;tt0036077&#39;,\n",
       "  &#39;nm0788396&#39;,\n",
       "  2,\n",
       "  &#39;actress&#39;,\n",
       "  &#39;\\\\N&#39;,\n",
       "  &#39;[&#34;Rani&#34;]&#39;,\n",
       "  &#39;Mumtaz Shanti&#39;,\n",
       "  &#39;1926&#39;,\n",
       "  None,\n",
       "  &#39;actress&#39;,\n",
       "  &#39;tt0040387,tt0375805,tt0138315,tt0425763&#39;,\n",
       "  &#39;movie&#39;,\n",
       "  &#39;Kismet&#39;,\n",
       "  &#39;Kismet&#39;,\n",
       "  0,\n",
       "  &#39;1943&#39;,\n",
       "  &#39;\\\\N&#39;,\n",
       "  &#39;143&#39;,\n",
       "  &#39;Drama&#39;],\n",
       " [&#39;tt0036808&#39;,\n",
       "  &#39;nm0936730&#39;,\n",
       "  1,\n",
       "  &#39;actress&#39;,\n",
       "  &#39;\\\\N&#39;,\n",
       "  &#39;[&#34;Mary Elliott&#34;]&#39;,\n",
       "  &#39;Jane Withers&#39;,\n",
       "  &#39;1926&#39;,\n",
       "  None,\n",
       "  &#39;actress,soundtrack,writer&#39;,\n",
       "  &#39;tt0049261,tt0033044,tt0027667,tt0257778&#39;,\n",
       "  &#39;movie&#39;,\n",
       "  &#39;Faces in the Fog&#39;,\n",
       "  &#39;Faces in the Fog&#39;,\n",
       "  0,\n",
       "  &#39;1944&#39;,\n",
       "  &#39;\\\\N&#39;,\n",
       "  &#39;71&#39;,\n",
       "  &#39;Drama&#39;],\n",
       " [&#39;tt0037459&#39;,\n",
       "  &#39;nm0527996&#39;,\n",
       "  1,\n",
       "  &#39;actor&#39;,\n",
       "  &#39;\\\\N&#39;,\n",
       "  &#39;[&#34;Ted Benson&#34;]&#39;,\n",
       "  &#39;Jimmy Lydon&#39;,\n",
       "  &#39;1923&#39;,\n",
       "  None,\n",
       "  &#39;actor,producer,miscellaneous&#39;,\n",
       "  &#39;tt0038126,tt0034844,tt0039566,tt0075393&#39;,\n",
       "  &#39;movie&#39;,\n",
       "  &#39;When the Lights Go on Again&#39;,\n",
       "  &#39;When the Lights Go on Again&#39;,\n",
       "  0,\n",
       "  &#39;1944&#39;,\n",
       "  &#39;\\\\N&#39;,\n",
       "  &#39;74&#39;,\n",
       "  &#39;Drama,Romance,War&#39;],\n",
       " [&#39;tt0039955&#39;,\n",
       "  &#39;nm0319855&#39;,\n",
       "  4,\n",
       "  &#39;actress&#39;,\n",
       "  &#39;\\\\N&#39;,\n",
       "  &#39;\\\\N&#39;,\n",
       "  &#39;Carolina Jiménez&#39;,\n",
       "  &#39;1922&#39;,\n",
       "  None,\n",
       "  &#39;actress,miscellaneous&#39;,\n",
       "  &#39;tt0339560,tt0041665,tt0203156,tt0043978&#39;,\n",
       "  &#39;movie&#39;,\n",
       "  &#39;Un viaje de novios&#39;,\n",
       "  &#39;Un viaje de novios&#39;,\n",
       "  0,\n",
       "  &#39;1948&#39;,\n",
       "  &#39;\\\\N&#39;,\n",
       "  &#39;95&#39;,\n",
       "  &#39;\\\\N&#39;]]</div>"
      ]
     },
     "metadata": {},
     "output_type": "display_data"
    }
   ],
   "source": [
    "rdd_network_filter = df_network_filter.rdd.map(list)\n",
    "rdd_network_filter.take(4)"
   ]
  },
  {
   "cell_type": "code",
   "execution_count": 24,
   "metadata": {},
   "outputs": [
    {
     "data": {
      "text/html": [
       "<style scoped>\n",
       "  .ansiout {\n",
       "    display: block;\n",
       "    unicode-bidi: embed;\n",
       "    white-space: pre-wrap;\n",
       "    word-wrap: break-word;\n",
       "    word-break: break-all;\n",
       "    font-family: \"Source Code Pro\", \"Menlo\", monospace;;\n",
       "    font-size: 13px;\n",
       "    color: #555;\n",
       "    margin-left: 4px;\n",
       "    line-height: 19px;\n",
       "  }\n",
       "</style>\n",
       "<div class=\"ansiout\"></div>"
      ]
     },
     "metadata": {},
     "output_type": "display_data"
    }
   ],
   "source": [
    "rdd_network_id = rdd_network_filter.map(lambda x :(str(x[1]), 1))\n",
    "rdd_network_name = rdd_network_filter.map(lambda x :(str(x[1]), str(x[6]))).distinct()"
   ]
  },
  {
   "cell_type": "code",
   "execution_count": 25,
   "metadata": {},
   "outputs": [
    {
     "data": {
      "text/html": [
       "<style scoped>\n",
       "  .ansiout {\n",
       "    display: block;\n",
       "    unicode-bidi: embed;\n",
       "    white-space: pre-wrap;\n",
       "    word-wrap: break-word;\n",
       "    word-break: break-all;\n",
       "    font-family: \"Source Code Pro\", \"Menlo\", monospace;;\n",
       "    font-size: 13px;\n",
       "    color: #555;\n",
       "    margin-left: 4px;\n",
       "    line-height: 19px;\n",
       "  }\n",
       "</style>\n",
       "<div class=\"ansiout\"></div>"
      ]
     },
     "metadata": {},
     "output_type": "display_data"
    }
   ],
   "source": [
    "rdd_network_count = rdd_network_id.reduceByKey(lambda x,y: x+y)"
   ]
  },
  {
   "cell_type": "code",
   "execution_count": 26,
   "metadata": {},
   "outputs": [
    {
     "data": {
      "text/html": [
       "<style scoped>\n",
       "  .ansiout {\n",
       "    display: block;\n",
       "    unicode-bidi: embed;\n",
       "    white-space: pre-wrap;\n",
       "    word-wrap: break-word;\n",
       "    word-break: break-all;\n",
       "    font-family: \"Source Code Pro\", \"Menlo\", monospace;;\n",
       "    font-size: 13px;\n",
       "    color: #555;\n",
       "    margin-left: 4px;\n",
       "    line-height: 19px;\n",
       "  }\n",
       "</style>\n",
       "<div class=\"ansiout\">Out[14]: [(&#39;nm0103977&#39;, &#39;Brahmanandam&#39;, 809),\n",
       " (&#39;nm0007123&#39;, &#39;Mammootty&#39;, 379),\n",
       " (&#39;nm0482320&#39;, &#39;Mohanlal&#39;, 343),\n",
       " (&#39;nm0149822&#39;, &#39;Mithun Chakraborty&#39;, 332),\n",
       " (&#39;nm0007106&#39;, &#39;Shakti Kapoor&#39;, 309),\n",
       " (&#39;nm0415549&#39;, &#39;Jagathi Sreekumar&#39;, 303),\n",
       " (&#39;nm0035067&#39;, &#39;Cüneyt Arkin&#39;, 294),\n",
       " (&#39;nm0374974&#39;, &#39;Helen&#39;, 281),\n",
       " (&#39;nm0534867&#39;, &#39;Madhu&#39;, 277),\n",
       " (&#39;nm0004429&#39;, &#39;Dharmendra&#39;, 270)]</div>"
      ]
     },
     "metadata": {},
     "output_type": "display_data"
    }
   ],
   "source": [
    "final_count = rdd_network_count.join(rdd_network_name).sortBy(lambda x: x[1][0], False).map(lambda x :(x[0], x[1][1], x[1][0]))\n",
    "final_count.take(10)"
   ]
  },
  {
   "cell_type": "markdown",
   "metadata": {},
   "source": [
    "**Q3 My final answer is :**\n",
    "\n",
    "|    | nconst    | primaryName        |   qtt |\n",
    "|---:|:----------|:-------------------|------:|\n",
    "|  0 | nm0103977 | Brahmanandam       |   809 |\n",
    "|  1 | nm0007123 | Mammootty          |   379 |\n",
    "|  2 | nm0482320 | Mohanlal           |   343 |\n",
    "|  3 | nm0149822 | Mithun Chakraborty |   332 |\n",
    "|  4 | nm0007106 | Shakti Kapoor      |   309 |\n",
    "|  5 | nm0415549 | Jagathi Sreekumar  |   303 |\n",
    "|  6 | nm0035067 | Cüneyt Arkin       |   294 |\n",
    "|  7 | nm0374974 | Helen              |   281 |\n",
    "|  8 | nm0534867 | Madhu              |   277 |\n",
    "|  9 | nm0004429 | Dharmendra         |   270 |"
   ]
  },
  {
   "cell_type": "markdown",
   "metadata": {},
   "source": [
    "**Q4** Start with the dataframe from **Q2**. Generate a DataFrame that lists all links of your network. Here we shall consider that a link connects a pair of actors/actresses if they participated in at least one movie together (actors / actresses should be represented by their unique ID's). For every link we then need anytime a pair of actors were together in a movie as a link in each direction (A -> B and B -> A). However links should be distinct we do not need duplicates when two actors worked together in several movies."
   ]
  },
  {
   "cell_type": "code",
   "execution_count": 29,
   "metadata": {},
   "outputs": [
    {
     "data": {
      "text/html": [
       "<style scoped>\n",
       "  .ansiout {\n",
       "    display: block;\n",
       "    unicode-bidi: embed;\n",
       "    white-space: pre-wrap;\n",
       "    word-wrap: break-word;\n",
       "    word-break: break-all;\n",
       "    font-family: \"Source Code Pro\", \"Menlo\", monospace;;\n",
       "    font-size: 13px;\n",
       "    color: #555;\n",
       "    margin-left: 4px;\n",
       "    line-height: 19px;\n",
       "  }\n",
       "</style>\n",
       "<div class=\"ansiout\"></div>"
      ]
     },
     "metadata": {},
     "output_type": "display_data"
    }
   ],
   "source": [
    "rdd_actors_link1 = df_network_filter.rdd.map(list).map(lambda x :(x[0], x[1]))\n",
    "rdd_actors_link2 = df_network_filter.rdd.map(list).map(lambda x :(x[0], x[1]))"
   ]
  },
  {
   "cell_type": "code",
   "execution_count": 30,
   "metadata": {},
   "outputs": [
    {
     "data": {
      "text/html": [
       "<style scoped>\n",
       "  .ansiout {\n",
       "    display: block;\n",
       "    unicode-bidi: embed;\n",
       "    white-space: pre-wrap;\n",
       "    word-wrap: break-word;\n",
       "    word-break: break-all;\n",
       "    font-family: \"Source Code Pro\", \"Menlo\", monospace;;\n",
       "    font-size: 13px;\n",
       "    color: #555;\n",
       "    margin-left: 4px;\n",
       "    line-height: 19px;\n",
       "  }\n",
       "</style>\n",
       "<div class=\"ansiout\">Out[16]: [&lt;Row(nm0668271, nm0001151)&gt;,\n",
       " &lt;Row(nm2507102, nm0102403)&gt;,\n",
       " &lt;Row(nm3216408, nm0453304)&gt;]</div>"
      ]
     },
     "metadata": {},
     "output_type": "display_data"
    }
   ],
   "source": [
    "rdd_actors_link =  rdd_actors_link1.join(rdd_actors_link2) \\\n",
    "                                        .map(lambda x :Row(x[1][0], x[1][1])) \\\n",
    "                                        .filter(lambda x: x[0] != x[1]).distinct() \n",
    "rdd_actors_link.take(3)"
   ]
  },
  {
   "cell_type": "code",
   "execution_count": 31,
   "metadata": {},
   "outputs": [
    {
     "data": {
      "text/html": [
       "<style scoped>\n",
       "  .ansiout {\n",
       "    display: block;\n",
       "    unicode-bidi: embed;\n",
       "    white-space: pre-wrap;\n",
       "    word-wrap: break-word;\n",
       "    word-break: break-all;\n",
       "    font-family: \"Source Code Pro\", \"Menlo\", monospace;;\n",
       "    font-size: 13px;\n",
       "    color: #555;\n",
       "    margin-left: 4px;\n",
       "    line-height: 19px;\n",
       "  }\n",
       "</style>\n",
       "<div class=\"ansiout\">+---------+---------+\n",
       "   ActorA|   ActorB|\n",
       "+---------+---------+\n",
       "nm0668271|nm0001151|\n",
       "nm2507102|nm0102403|\n",
       "nm3216408|nm0453304|\n",
       "nm0429385|nm0005541|\n",
       "nm0544425|nm0000778|\n",
       "+---------+---------+\n",
       "only showing top 5 rows\n",
       "\n",
       "Out[17]: 712112</div>"
      ]
     },
     "metadata": {},
     "output_type": "display_data"
    }
   ],
   "source": [
    "ActorA = StructField(\"ActorA\",StringType(),True)\n",
    "ActorB = StructField(\"ActorB\",StringType(),True)\n",
    "\n",
    "df_actors_link = sqlContext.createDataFrame(rdd_actors_link, StructType([ActorA, ActorB]))\n",
    "df_actors_link.cache()\n",
    "df_actors_link.show(5)\n",
    "df_actors_link.count()"
   ]
  },
  {
   "cell_type": "markdown",
   "metadata": {},
   "source": [
    "**Q4 My final answer is :**\n",
    "\n",
    "|   ActorA|   ActorB|\n",
    "|---------|---------|\n",
    "|nm0668271|nm0001151|\n",
    "|nm2507102|nm0102403|\n",
    "|nm3216408|nm0453304|\n",
    "|nm0429385|nm0005541|\n",
    "|nm0544425|nm0000778|\n",
    "\n",
    "only the first 5 rows of 712.112 rows total"
   ]
  },
  {
   "cell_type": "markdown",
   "metadata": {},
   "source": [
    "**Q5** Compute the page rank of each actor. This can be done using GraphFrames or\n",
    "by using RDDs and the iterative implementation of the PageRank algorithm. Do not take\n",
    "more than 5 iterations and use reset probility = 0.1.\n",
    "\n",
    "List the top 10 actors / actresses by pagerank."
   ]
  },
  {
   "cell_type": "code",
   "execution_count": 34,
   "metadata": {},
   "outputs": [
    {
     "data": {
      "text/html": [
       "<style scoped>\n",
       "  .ansiout {\n",
       "    display: block;\n",
       "    unicode-bidi: embed;\n",
       "    white-space: pre-wrap;\n",
       "    word-wrap: break-word;\n",
       "    word-break: break-all;\n",
       "    font-family: \"Source Code Pro\", \"Menlo\", monospace;;\n",
       "    font-size: 13px;\n",
       "    color: #555;\n",
       "    margin-left: 4px;\n",
       "    line-height: 19px;\n",
       "  }\n",
       "</style>\n",
       "<div class=\"ansiout\"></div>"
      ]
     },
     "metadata": {},
     "output_type": "display_data"
    }
   ],
   "source": [
    "df_vertices = df_actors_link.select(df_actors_link['ActorA']).selectExpr(\"ActorA as id\").distinct()\n",
    "df_link = df_actors_link.selectExpr(\"ActorA as src\", \"ActorB as dst\")"
   ]
  },
  {
   "cell_type": "code",
   "execution_count": 35,
   "metadata": {},
   "outputs": [
    {
     "data": {
      "text/html": [
       "<style scoped>\n",
       "  .ansiout {\n",
       "    display: block;\n",
       "    unicode-bidi: embed;\n",
       "    white-space: pre-wrap;\n",
       "    word-wrap: break-word;\n",
       "    word-break: break-all;\n",
       "    font-family: \"Source Code Pro\", \"Menlo\", monospace;;\n",
       "    font-size: 13px;\n",
       "    color: #555;\n",
       "    margin-left: 4px;\n",
       "    line-height: 19px;\n",
       "  }\n",
       "</style>\n",
       "<div class=\"ansiout\">+---------+\n",
       "       id|\n",
       "+---------+\n",
       "nm0527543|\n",
       "nm1699244|\n",
       "nm0005351|\n",
       "nm1163128|\n",
       "+---------+\n",
       "only showing top 4 rows\n",
       "\n",
       "+---------+---------+\n",
       "      src|      dst|\n",
       "+---------+---------+\n",
       "nm0668271|nm0001151|\n",
       "nm2507102|nm0102403|\n",
       "nm3216408|nm0453304|\n",
       "nm0429385|nm0005541|\n",
       "+---------+---------+\n",
       "only showing top 4 rows\n",
       "\n",
       "</div>"
      ]
     },
     "metadata": {},
     "output_type": "display_data"
    }
   ],
   "source": [
    "ourGraph = gfm.GraphFrame(df_vertices, df_link)\n",
    "ourGraph.vertices.show(4)\n",
    "ourGraph.edges.show(4)"
   ]
  },
  {
   "cell_type": "code",
   "execution_count": 36,
   "metadata": {},
   "outputs": [
    {
     "data": {
      "text/html": [
       "<style scoped>\n",
       "  .ansiout {\n",
       "    display: block;\n",
       "    unicode-bidi: embed;\n",
       "    white-space: pre-wrap;\n",
       "    word-wrap: break-word;\n",
       "    word-break: break-all;\n",
       "    font-family: \"Source Code Pro\", \"Menlo\", monospace;;\n",
       "    font-size: 13px;\n",
       "    color: #555;\n",
       "    margin-left: 4px;\n",
       "    line-height: 19px;\n",
       "  }\n",
       "</style>\n",
       "<div class=\"ansiout\"></div>"
      ]
     },
     "metadata": {},
     "output_type": "display_data"
    }
   ],
   "source": [
    "pageRanks = ourGraph.pageRank(resetProbability=0.1, maxIter = 5)"
   ]
  },
  {
   "cell_type": "code",
   "execution_count": 37,
   "metadata": {},
   "outputs": [
    {
     "data": {
      "text/html": [
       "<style scoped>\n",
       "  .ansiout {\n",
       "    display: block;\n",
       "    unicode-bidi: embed;\n",
       "    white-space: pre-wrap;\n",
       "    word-wrap: break-word;\n",
       "    word-break: break-all;\n",
       "    font-family: \"Source Code Pro\", \"Menlo\", monospace;;\n",
       "    font-size: 13px;\n",
       "    color: #555;\n",
       "    margin-left: 4px;\n",
       "    line-height: 19px;\n",
       "  }\n",
       "</style>\n",
       "<div class=\"ansiout\"></div>"
      ]
     },
     "metadata": {},
     "output_type": "display_data"
    }
   ],
   "source": [
    "df_pageRank = pageRanks.vertices\n",
    "df_pageRankTop10 = df_pageRank.sort('pageRank', ascending=False).limit(10)\n"
   ]
  },
  {
   "cell_type": "code",
   "execution_count": 38,
   "metadata": {},
   "outputs": [
    {
     "data": {
      "text/html": [
       "<style scoped>\n",
       "  .ansiout {\n",
       "    display: block;\n",
       "    unicode-bidi: embed;\n",
       "    white-space: pre-wrap;\n",
       "    word-wrap: break-word;\n",
       "    word-break: break-all;\n",
       "    font-family: \"Source Code Pro\", \"Menlo\", monospace;;\n",
       "    font-size: 13px;\n",
       "    color: #555;\n",
       "    margin-left: 4px;\n",
       "    line-height: 19px;\n",
       "  }\n",
       "</style>\n",
       "<div class=\"ansiout\">+---------+----------------+------------------+\n",
       "       id|     primaryName|          pagerank|\n",
       "+---------+----------------+------------------+\n",
       "nm0000616|    Eric Roberts|  40.6478874245532|\n",
       "nm0000514|  Michael Madsen|24.226138058070163|\n",
       "nm0001744|    Tom Sizemore|23.419848197831612|\n",
       "nm0001803|     Danny Trejo|20.555441795470156|\n",
       "nm0000448| Lance Henriksen|17.663207647023903|\n",
       "nm0001698|     John Savage|17.583580336085777|\n",
       "nm0004193|   Debbie Rochon|16.881922296919786|\n",
       "nm0000367|Gérard Depardieu|16.832482667099892|\n",
       "nm0000800|  Armand Assante|16.111563992409874|\n",
       "nm0626259|     Franco Nero|15.962778479477862|\n",
       "+---------+----------------+------------------+\n",
       "\n",
       "</div>"
      ]
     },
     "metadata": {},
     "output_type": "display_data"
    }
   ],
   "source": [
    "df_pageRankTop10 = df_pageRankTop10.join(df_name_basics, df_pageRankTop10.id == df_name_basics.nconst,how='left') \\\n",
    "                                        .select(df_pageRankTop10['id'],\n",
    "                                                df_name_basics['primaryName'],\n",
    "                                                df_pageRankTop10['pagerank'])\n",
    "\n",
    "df_pageRankTop10.sort('pageRank', ascending=False).show()"
   ]
  },
  {
   "cell_type": "markdown",
   "metadata": {},
   "source": [
    "**Q5 My final answer is :**\n",
    "\n",
    "|       id|     primaryName|          pagerank|\n",
    "|---------|----------------|------------------|\n",
    "|nm0000616|    Eric Roberts| 40.64568033439618|\n",
    "|nm0000514|  Michael Madsen|24.223364243080432|\n",
    "|nm0001744|    Tom Sizemore| 23.41212013915763|\n",
    "|nm0001803|     Danny Trejo|  20.5416537452636|\n",
    "|nm0000448| Lance Henriksen|17.663051148448265|\n",
    "|nm0001698|     John Savage| 17.58626839735639|\n",
    "|nm0004193|   Debbie Rochon| 16.84310918060613|\n",
    "|nm0000367|Gérard Depardieu|16.831408391863988|\n",
    "|nm0000800|  Armand Assante|16.109331083009028|\n",
    "|nm0626259|     Franco Nero|15.963431437176633|"
   ]
  },
  {
   "cell_type": "markdown",
   "metadata": {},
   "source": [
    "**Q6**: Create an RDD with the number of outDegrees for each actor. Display the top 10 by outDegrees."
   ]
  },
  {
   "cell_type": "code",
   "execution_count": 41,
   "metadata": {},
   "outputs": [
    {
     "data": {
      "text/html": [
       "<style scoped>\n",
       "  .ansiout {\n",
       "    display: block;\n",
       "    unicode-bidi: embed;\n",
       "    white-space: pre-wrap;\n",
       "    word-wrap: break-word;\n",
       "    word-break: break-all;\n",
       "    font-family: \"Source Code Pro\", \"Menlo\", monospace;;\n",
       "    font-size: 13px;\n",
       "    color: #555;\n",
       "    margin-left: 4px;\n",
       "    line-height: 19px;\n",
       "  }\n",
       "</style>\n",
       "<div class=\"ansiout\">+---------+--------------------+---------+\n",
       "       id|         primaryName|outDegree|\n",
       "+---------+--------------------+---------+\n",
       "nm0000616|        Eric Roberts|      438|\n",
       "nm0000514|      Michael Madsen|      289|\n",
       "nm0000367|    Gérard Depardieu|      263|\n",
       "nm0001744|        Tom Sizemore|      261|\n",
       "nm0945189|           Simon Yam|      253|\n",
       "nm0451600|         Anupam Kher|      239|\n",
       "nm0149822|  Mithun Chakraborty|      232|\n",
       "nm0001803|         Danny Trejo|      231|\n",
       "nm0874676|          Eric Tsang|      227|\n",
       "nm0938893|Anthony Chau-Sang...|      225|\n",
       "+---------+--------------------+---------+\n",
       "\n",
       "</div>"
      ]
     },
     "metadata": {},
     "output_type": "display_data"
    }
   ],
   "source": [
    "df_outDegree = ourGraph.outDegrees\n",
    "df_outDegreeTop10 = ourGraph.outDegrees.sort('outDegree', ascending=False).limit(10)\n",
    "df_outDegreeTop10 = df_outDegreeTop10.join(df_name_basics, df_outDegreeTop10.id == df_name_basics.nconst,how='left').select(df_outDegreeTop10['id'], df_name_basics['primaryName'], df_outDegreeTop10['outDegree'])\n",
    "\n",
    "df_outDegreeTop10.sort('outDegree', ascending=False).show()"
   ]
  },
  {
   "cell_type": "markdown",
   "metadata": {},
   "source": [
    "**Q6 My final answer is :**\n",
    "\n",
    "|       id|         primaryName|outDegree|\n",
    "|---------|--------------------|---------|\n",
    "|nm0000616|        Eric Roberts|      438|\n",
    "|nm0000514|      Michael Madsen|      289|\n",
    "|nm0000367|    Gérard Depardieu|      263|\n",
    "|nm0001744|        Tom Sizemore|      261|\n",
    "|nm0945189|           Simon Yam|      253|\n",
    "|nm0451600|         Anupam Kher|      238|\n",
    "|nm0149822|  Mithun Chakraborty|      232|\n",
    "|nm0001803|         Danny Trejo|      231|\n",
    "|nm0874676|          Eric Tsang|      227|\n",
    "|nm0938893|Anthony Chau-Sang...|      225|"
   ]
  },
  {
   "cell_type": "markdown",
   "metadata": {},
   "source": [
    "### Let’s play Kevin’s own game\n",
    "\n",
    "**Q7** Start with the graphframe / dataframe you developed in the previous section. Using Spark GraphFrame and/or Spark Core library perform the following steps:\n",
    "\n",
    "1. Identify the id of Kevin Bacon, there are two actors named ‘Kevin Bacon’, we will use the one with the highest degree, that is, the one that participated in most titles;\n",
    "1. Estimate the shortest path between every actor/actress in the database and Kevin Bacon, keep a dataframe with a column that includes the number of steps to Kevin Bacon as you will need it later (this will require a little processing to get from the graphframes output);\n",
    "1. Summarise the data, that is, count the number of actors at each number of degress from kevin bacon (you will need to deal with actors unconnected to kevin bacon, if not connected to Kevin Bacon given these actors / actresses a score of 20). You could use the display() barchart functionality of databricks to easily display the distribution of the data.\n",
    "\n",
    "*Note: The solution time on this step can be ~15 minutes*"
   ]
  },
  {
   "cell_type": "code",
   "execution_count": 44,
   "metadata": {},
   "outputs": [
    {
     "data": {
      "text/html": [
       "<style scoped>\n",
       "  .ansiout {\n",
       "    display: block;\n",
       "    unicode-bidi: embed;\n",
       "    white-space: pre-wrap;\n",
       "    word-wrap: break-word;\n",
       "    word-break: break-all;\n",
       "    font-family: \"Source Code Pro\", \"Menlo\", monospace;;\n",
       "    font-size: 13px;\n",
       "    color: #555;\n",
       "    margin-left: 4px;\n",
       "    line-height: 19px;\n",
       "  }\n",
       "</style>\n",
       "<div class=\"ansiout\">+---------+-----------+---------+---------+--------------------+--------------------+\n",
       "   nconst|primaryName|birthYear|deathYear|   primaryProfession|      knownForTitles|\n",
       "+---------+-----------+---------+---------+--------------------+--------------------+\n",
       "nm0000102|Kevin Bacon|     1958|       \\N|actor,producer,so...|tt0327056,tt03611...|\n",
       "+---------+-----------+---------+---------+--------------------+--------------------+\n",
       "\n",
       "</div>"
      ]
     },
     "metadata": {},
     "output_type": "display_data"
    }
   ],
   "source": [
    "df_name_basics.filter(df_name_basics.primaryName == 'Kevin Bacon').filter(df_name_basics.birthYear != '\\\\N').show()"
   ]
  },
  {
   "cell_type": "code",
   "execution_count": 45,
   "metadata": {},
   "outputs": [
    {
     "data": {
      "text/html": [
       "<style scoped>\n",
       "  .ansiout {\n",
       "    display: block;\n",
       "    unicode-bidi: embed;\n",
       "    white-space: pre-wrap;\n",
       "    word-wrap: break-word;\n",
       "    word-break: break-all;\n",
       "    font-family: \"Source Code Pro\", \"Menlo\", monospace;;\n",
       "    font-size: 13px;\n",
       "    color: #555;\n",
       "    margin-left: 4px;\n",
       "    line-height: 19px;\n",
       "  }\n",
       "</style>\n",
       "<div class=\"ansiout\"></div>"
      ]
     },
     "metadata": {},
     "output_type": "display_data"
    }
   ],
   "source": [
    "df_Paths = ourGraph.shortestPaths(landmarks=[\"nm0000102\"])"
   ]
  },
  {
   "cell_type": "code",
   "execution_count": 46,
   "metadata": {},
   "outputs": [
    {
     "data": {
      "text/html": [
       "<style scoped>\n",
       "  .ansiout {\n",
       "    display: block;\n",
       "    unicode-bidi: embed;\n",
       "    white-space: pre-wrap;\n",
       "    word-wrap: break-word;\n",
       "    word-break: break-all;\n",
       "    font-family: \"Source Code Pro\", \"Menlo\", monospace;;\n",
       "    font-size: 13px;\n",
       "    color: #555;\n",
       "    margin-left: 4px;\n",
       "    line-height: 19px;\n",
       "  }\n",
       "</style>\n",
       "<div class=\"ansiout\"></div>"
      ]
     },
     "metadata": {},
     "output_type": "display_data"
    }
   ],
   "source": [
    "from pyspark.sql.functions import explode\n",
    "df_shortestPaths = df_Paths.select(\"id\", explode(\"distances\"))  # explode(\"distances\") this will become \"value\"\n",
    "df_shortestPaths = df_shortestPaths.withColumn('value', when(df_shortestPaths.value.isNull(), lit(20)).otherwise(df_shortestPaths.value))\n",
    "group_distances = df_shortestPaths.groupBy('value').count().sort('value')"
   ]
  },
  {
   "cell_type": "code",
   "execution_count": 47,
   "metadata": {},
   "outputs": [
    {
     "data": {
      "text/html": [
       "<style scoped>\n",
       "  .ansiout {\n",
       "    display: block;\n",
       "    unicode-bidi: embed;\n",
       "    white-space: pre-wrap;\n",
       "    word-wrap: break-word;\n",
       "    word-break: break-all;\n",
       "    font-family: \"Source Code Pro\", \"Menlo\", monospace;;\n",
       "    font-size: 13px;\n",
       "    color: #555;\n",
       "    margin-left: 4px;\n",
       "    line-height: 19px;\n",
       "  }\n",
       "</style>\n",
       "<div class=\"ansiout\">+---------+---------+-----+\n",
       "       id|      key|value|\n",
       "+---------+---------+-----+\n",
       "nm0057741|nm0000102|    4|\n",
       "nm0068551|nm0000102|    3|\n",
       "nm0309307|nm0000102|    3|\n",
       "nm2341870|nm0000102|    4|\n",
       "nm0067745|nm0000102|    4|\n",
       "+---------+---------+-----+\n",
       "only showing top 5 rows\n",
       "\n",
       "Out[27]: 66530</div>"
      ]
     },
     "metadata": {},
     "output_type": "display_data"
    }
   ],
   "source": [
    "df_shortestPaths.show(5)\n",
    "df_shortestPaths.count()"
   ]
  },
  {
   "cell_type": "code",
   "execution_count": 48,
   "metadata": {},
   "outputs": [
    {
     "data": {
      "text/html": [
       "<style scoped>\n",
       "  .table-result-container {\n",
       "    max-height: 300px;\n",
       "    overflow: auto;\n",
       "  }\n",
       "  table, th, td {\n",
       "    border: 1px solid black;\n",
       "    border-collapse: collapse;\n",
       "  }\n",
       "  th, td {\n",
       "    padding: 5px;\n",
       "  }\n",
       "  th {\n",
       "    text-align: left;\n",
       "  }\n",
       "</style><div class='table-result-container'><table class='table-result'><thead style='background-color: white'><tr><th>value</th><th>count</th></tr></thead><tbody><tr><td>0</td><td>1</td></tr><tr><td>1</td><td>126</td></tr><tr><td>2</td><td>3303</td></tr><tr><td>3</td><td>18309</td></tr><tr><td>4</td><td>29051</td></tr><tr><td>5</td><td>13099</td></tr><tr><td>6</td><td>2251</td></tr><tr><td>7</td><td>311</td></tr><tr><td>8</td><td>38</td></tr><tr><td>9</td><td>11</td></tr><tr><td>10</td><td>12</td></tr><tr><td>11</td><td>4</td></tr></tbody></table></div>"
      ]
     },
     "metadata": {},
     "output_type": "display_data"
    }
   ],
   "source": [
    "display(group_distances)"
   ]
  },
  {
   "cell_type": "markdown",
   "metadata": {},
   "source": [
    "**Q7.1 My final answer is: ** nm0000102\n",
    "    \n",
    "    \n",
    "**Q7.2 My final answer is: **\n",
    "    \n",
    "|       id|      key|value|\n",
    "|---------|---------|-----|\n",
    "|nm0057741|nm0000102|    4|\n",
    "|nm0068551|nm0000102|    3|\n",
    "|nm0309307|nm0000102|    3|\n",
    "|nm2341870|nm0000102|    4|\n",
    "|nm0067745|nm0000102|    4|  \n",
    " \n",
    "top 5 rows of, complete table has 66.516\n",
    "\n",
    "**Q7.3 My final answer is: ** \n",
    "\n",
    "|value|count|\n",
    "|-----|-----|\n",
    "|    0|    1|\n",
    "|    1|  126|\n",
    "|    2| 3303|\n",
    "|    3|18309|\n",
    "|    4|29051|\n",
    "|    5|13099|\n",
    "|    6| 2251|\n",
    "|    7|  311|\n",
    "|    8|   38|\n",
    "|    9|   11|\n",
    "|   10|   12|\n",
    "|   11|    4|"
   ]
  },
  {
   "cell_type": "markdown",
   "metadata": {},
   "source": [
    "### Exploring the data with RDD's\n",
    "\n",
    "Using RDDs and (not dataframes) answer the following questions (if you loaded your data into spark in a dataframe you can convert to an RDD of rows easily using `.rdd`) : \n",
    "\n",
    "*Hint:* paired RDD's will be useful.\n",
    "\n",
    "**Q8** Movies can have multiple genres. Considering only titles of the type 'movie' what is the combination of genres that is the most popluar (as measured by number of reviews)?"
   ]
  },
  {
   "cell_type": "code",
   "execution_count": 51,
   "metadata": {},
   "outputs": [
    {
     "data": {
      "text/html": [
       "<style scoped>\n",
       "  .ansiout {\n",
       "    display: block;\n",
       "    unicode-bidi: embed;\n",
       "    white-space: pre-wrap;\n",
       "    word-wrap: break-word;\n",
       "    word-break: break-all;\n",
       "    font-family: \"Source Code Pro\", \"Menlo\", monospace;;\n",
       "    font-size: 13px;\n",
       "    color: #555;\n",
       "    margin-left: 4px;\n",
       "    line-height: 19px;\n",
       "  }\n",
       "</style>\n",
       "<div class=\"ansiout\">Out[28]: [(&#39;Drama&#39;, 8),\n",
       " (&#39;Documentary&#39;, 11),\n",
       " (&#39;Drama,War&#39;, 8955),\n",
       " (&#39;Adventure,Drama&#39;, 75),\n",
       " (&#39;Action,History,Romance&#39;, 90)]</div>"
      ]
     },
     "metadata": {},
     "output_type": "display_data"
    }
   ],
   "source": [
    "rdd_genre   = df_network_filter.rdd.map(lambda x : (x[0], x[-1])).distinct()\n",
    "rdd_reviews = df_title_ratings.rdd.map(lambda x : (x[0], x[-1]))\n",
    "rdd_genreReviews = rdd_genre.join(rdd_reviews).map(lambda x : (x[1][0], x[1][1]))\n",
    "rdd_genreReviews.take(5)"
   ]
  },
  {
   "cell_type": "code",
   "execution_count": 52,
   "metadata": {},
   "outputs": [
    {
     "data": {
      "text/html": [
       "<style scoped>\n",
       "  .ansiout {\n",
       "    display: block;\n",
       "    unicode-bidi: embed;\n",
       "    white-space: pre-wrap;\n",
       "    word-wrap: break-word;\n",
       "    word-break: break-all;\n",
       "    font-family: \"Source Code Pro\", \"Menlo\", monospace;;\n",
       "    font-size: 13px;\n",
       "    color: #555;\n",
       "    margin-left: 4px;\n",
       "    line-height: 19px;\n",
       "  }\n",
       "</style>\n",
       "<div class=\"ansiout\">Out[29]: [(&#39;Action,Adventure,Sci-Fi&#39;, 43370766)]</div>"
      ]
     },
     "metadata": {},
     "output_type": "display_data"
    }
   ],
   "source": [
    "genreMostReviews = rdd_genreReviews.reduceByKey(lambda x, y: x + y).sortBy(lambda x: x[1], False).take(1)\n",
    "genreMostReviews"
   ]
  },
  {
   "cell_type": "markdown",
   "metadata": {},
   "source": [
    "** Q8 my final answer is **\n",
    "\n",
    "| genre                   | qtt     |\n",
    "|-------------------------|---------|\n",
    "| Action,Adventure,Sci-Fi | 43364010|"
   ]
  },
  {
   "cell_type": "markdown",
   "metadata": {},
   "source": [
    "**Q9** Movies can have multiple genres. Considering only titles of the type 'movie', and movies with more than 500 ratings, what is the combination of genres that has the highest **average movie rating** (you can average the movie rating for each movie in that genre combination)."
   ]
  },
  {
   "cell_type": "code",
   "execution_count": 55,
   "metadata": {},
   "outputs": [
    {
     "data": {
      "text/html": [
       "<style scoped>\n",
       "  .ansiout {\n",
       "    display: block;\n",
       "    unicode-bidi: embed;\n",
       "    white-space: pre-wrap;\n",
       "    word-wrap: break-word;\n",
       "    word-break: break-all;\n",
       "    font-family: \"Source Code Pro\", \"Menlo\", monospace;;\n",
       "    font-size: 13px;\n",
       "    color: #555;\n",
       "    margin-left: 4px;\n",
       "    line-height: 19px;\n",
       "  }\n",
       "</style>\n",
       "<div class=\"ansiout\">Out[30]: [(&#39;tt0000010&#39;, 6.9),\n",
       " (&#39;tt0000022&#39;, 5.1),\n",
       " (&#39;tt0000023&#39;, 5.7),\n",
       " (&#39;tt0000041&#39;, 6.6),\n",
       " (&#39;tt0000309&#39;, 6.1)]</div>"
      ]
     },
     "metadata": {},
     "output_type": "display_data"
    }
   ],
   "source": [
    "rdd_reviews_gt500 = rdd_reviews.filter(lambda x: x[1] > 500)\n",
    "rdd_ratings = df_title_ratings.rdd.map(lambda x : (x[0], x[1]))\n",
    "rdd_movieRate = rdd_reviews_gt500.join(rdd_ratings).map(lambda x : (x[0], x[1][1]))\n",
    "rdd_movieRate.take(5)"
   ]
  },
  {
   "cell_type": "code",
   "execution_count": 56,
   "metadata": {},
   "outputs": [
    {
     "data": {
      "text/html": [
       "<style scoped>\n",
       "  .ansiout {\n",
       "    display: block;\n",
       "    unicode-bidi: embed;\n",
       "    white-space: pre-wrap;\n",
       "    word-wrap: break-word;\n",
       "    word-break: break-all;\n",
       "    font-family: \"Source Code Pro\", \"Menlo\", monospace;;\n",
       "    font-size: 13px;\n",
       "    color: #555;\n",
       "    margin-left: 4px;\n",
       "    line-height: 19px;\n",
       "  }\n",
       "</style>\n",
       "<div class=\"ansiout\">Out[31]: [(&#39;Comedy,Family,Fantasy&#39;, 7.1),\n",
       " (&#39;Action,Sci-Fi,Thriller&#39;, 6.7),\n",
       " (&#39;Comedy&#39;, 7.8),\n",
       " (&#39;Action,Adventure,Drama&#39;, 6.5),\n",
       " (&#39;Drama&#39;, 6.7)]</div>"
      ]
     },
     "metadata": {},
     "output_type": "display_data"
    }
   ],
   "source": [
    "rdd_genreRate = rdd_movieRate.join(rdd_genre).map(lambda x : (x[1][1], x[1][0]))\n",
    "rdd_genreRate.take(5)"
   ]
  },
  {
   "cell_type": "code",
   "execution_count": 57,
   "metadata": {},
   "outputs": [
    {
     "data": {
      "text/html": [
       "<style scoped>\n",
       "  .ansiout {\n",
       "    display: block;\n",
       "    unicode-bidi: embed;\n",
       "    white-space: pre-wrap;\n",
       "    word-wrap: break-word;\n",
       "    word-break: break-all;\n",
       "    font-family: \"Source Code Pro\", \"Menlo\", monospace;;\n",
       "    font-size: 13px;\n",
       "    color: #555;\n",
       "    margin-left: 4px;\n",
       "    line-height: 19px;\n",
       "  }\n",
       "</style>\n",
       "<div class=\"ansiout\">Out[32]: [(&#39;Comedy,Family,Mystery&#39;, 8.9),\n",
       " (&#39;Music,Musical&#39;, 8.5),\n",
       " (&#39;Drama,Fantasy,War&#39;, 8.2),\n",
       " (&#39;Adventure,Drama,Musical&#39;, 8.1),\n",
       " (&#39;Family,Musical&#39;, 8.0)]</div>"
      ]
     },
     "metadata": {},
     "output_type": "display_data"
    }
   ],
   "source": [
    "rdd_avgRating = rdd_genreRate.mapValues(lambda x: (x, 1)) \\\n",
    "                                       .reduceByKey(lambda x,y: (x[0]+y[0], x[1]+y[1])) \\\n",
    "                                       .mapValues(lambda x: x[0]/x[1]) \\\n",
    "                                       .sortBy(lambda x: x[1], False)\n",
    "rdd_avgRating.take(5)"
   ]
  },
  {
   "cell_type": "markdown",
   "metadata": {},
   "source": [
    "** Q9 my final answer is **\n",
    "\n",
    "| genre                   |avg movie rating|\n",
    "|-------------------------|----------------|\n",
    "| Comedy,Family,Mystery   |      8.9       |"
   ]
  },
  {
   "cell_type": "markdown",
   "metadata": {},
   "source": [
    "**Q10** Movies can have multiple genres. What is **the individual genre** which is the most popular as meaured by number of votes. Votes for multiple genres count towards each genre listed.\n",
    "\n",
    "*Hint: Think about the wordcount exercise we have done with RDDs.*"
   ]
  },
  {
   "cell_type": "code",
   "execution_count": 60,
   "metadata": {},
   "outputs": [
    {
     "data": {
      "text/html": [
       "<style scoped>\n",
       "  .ansiout {\n",
       "    display: block;\n",
       "    unicode-bidi: embed;\n",
       "    white-space: pre-wrap;\n",
       "    word-wrap: break-word;\n",
       "    word-break: break-all;\n",
       "    font-family: \"Source Code Pro\", \"Menlo\", monospace;;\n",
       "    font-size: 13px;\n",
       "    color: #555;\n",
       "    margin-left: 4px;\n",
       "    line-height: 19px;\n",
       "  }\n",
       "</style>\n",
       "<div class=\"ansiout\">Out[33]: [(&#39;Drama&#39;, 8),\n",
       " (&#39;Documentary&#39;, 11),\n",
       " (&#39;Drama,War&#39;, 8955),\n",
       " (&#39;Adventure,Drama&#39;, 75),\n",
       " (&#39;Action,History,Romance&#39;, 90)]</div>"
      ]
     },
     "metadata": {},
     "output_type": "display_data"
    }
   ],
   "source": [
    "rdd_genreReviews.take(5)"
   ]
  },
  {
   "cell_type": "code",
   "execution_count": 61,
   "metadata": {},
   "outputs": [
    {
     "data": {
      "text/html": [
       "<style scoped>\n",
       "  .ansiout {\n",
       "    display: block;\n",
       "    unicode-bidi: embed;\n",
       "    white-space: pre-wrap;\n",
       "    word-wrap: break-word;\n",
       "    word-break: break-all;\n",
       "    font-family: \"Source Code Pro\", \"Menlo\", monospace;;\n",
       "    font-size: 13px;\n",
       "    color: #555;\n",
       "    margin-left: 4px;\n",
       "    line-height: 19px;\n",
       "  }\n",
       "</style>\n",
       "<div class=\"ansiout\">Out[34]: [(&#39;Drama&#39;, 382498197),\n",
       " (&#39;Action&#39;, 252205415),\n",
       " (&#39;Comedy&#39;, 233545282),\n",
       " (&#39;Adventure&#39;, 213859699)]</div>"
      ]
     },
     "metadata": {},
     "output_type": "display_data"
    }
   ],
   "source": [
    "rdd_individualGenreReviews = rdd_genreReviews.map(lambda x : (x[0].split(','), x[1])) \\\n",
    "                                                 .map(lambda x: [(y, x[1]) for y in x[0]]) \\\n",
    "                                                 .flatMap(lambda x: x) \\\n",
    "                                                 .reduceByKey(lambda x, y: x+y) \\\n",
    "                                                 .sortBy(lambda x: x[1], False)\n",
    "rdd_individualGenreReviews.take(4)"
   ]
  },
  {
   "cell_type": "markdown",
   "metadata": {},
   "source": [
    "** Q10 my final answer is: **\n",
    "\n",
    "| genre   |qtt         |\n",
    "|---------|----  ------|\n",
    "| Drama   |382.388.240 |"
   ]
  },
  {
   "cell_type": "markdown",
   "metadata": {},
   "source": [
    "## Engineering the perfect cast\n",
    "We have created a number of potential features for predicting the rating of a movie based on its cast. Use sparkML to build a simple linear model to predict the rating of a movie based on the following features:\n",
    "\n",
    "1. The total number of movies in which the actors / actresses in the current movie have acted (based on Q3)\n",
    "1. The average pagerank of the cast in each movie (based on Q5)\n",
    "1. The average outDegree of the cast in each movie (based on Q6)\n",
    "1. The average value for for the cast of degrees of Kevin Bacon (based on Q7).\n",
    "\n",
    "*If you were unable to generate any of these features as you could not answer the previous questions, just skip that particular feature.*\n",
    "\n",
    "You will need to create a dataframe with the required features and label. Use a pipeline to create the vectors required by sparkML and apply the model. Remember to split your dataset, leave 30% of the data for testing, when splitting your data use the option `seed=0`.\n",
    "\n",
    "**Q11** Provide the coefficients of the regression and the accuracy of your model on the test dataset according to RSME."
   ]
  },
  {
   "cell_type": "code",
   "execution_count": 64,
   "metadata": {},
   "outputs": [
    {
     "data": {
      "text/html": [
       "<style scoped>\n",
       "  .ansiout {\n",
       "    display: block;\n",
       "    unicode-bidi: embed;\n",
       "    white-space: pre-wrap;\n",
       "    word-wrap: break-word;\n",
       "    word-break: break-all;\n",
       "    font-family: \"Source Code Pro\", \"Menlo\", monospace;;\n",
       "    font-size: 13px;\n",
       "    color: #555;\n",
       "    margin-left: 4px;\n",
       "    line-height: 19px;\n",
       "  }\n",
       "</style>\n",
       "<div class=\"ansiout\"></div>"
      ]
     },
     "metadata": {},
     "output_type": "display_data"
    }
   ],
   "source": [
    "ActorId = StructField(\"ActorId\",StringType(),True)\n",
    "qtt_movies = StructField(\"qtt_movies\",IntegerType(),True)\n",
    "df_ActorMovies = sqlContext.createDataFrame(rdd_network_count, StructType([ActorId, qtt_movies]))\n",
    "\n",
    "df_ActorsRates = df_ActorMovies.join(df_pageRank , df_ActorMovies.ActorId == df_pageRank.id , how = 'left') \\\n",
    "                                    .join(df_outDegree , df_ActorMovies.ActorId == df_outDegree.id , how = 'left') \\\n",
    "                                    .join(df_shortestPaths , df_ActorMovies.ActorId == df_shortestPaths.id , how = 'left')"
   ]
  },
  {
   "cell_type": "code",
   "execution_count": 65,
   "metadata": {},
   "outputs": [
    {
     "data": {
      "text/html": [
       "<style scoped>\n",
       "  .ansiout {\n",
       "    display: block;\n",
       "    unicode-bidi: embed;\n",
       "    white-space: pre-wrap;\n",
       "    word-wrap: break-word;\n",
       "    word-break: break-all;\n",
       "    font-family: \"Source Code Pro\", \"Menlo\", monospace;;\n",
       "    font-size: 13px;\n",
       "    color: #555;\n",
       "    margin-left: 4px;\n",
       "    line-height: 19px;\n",
       "  }\n",
       "</style>\n",
       "<div class=\"ansiout\">+---------+----------+-------------------+---------+-----+\n",
       "  ActorId|qtt_movies|           pagerank|outDegree|value|\n",
       "+---------+----------+-------------------+---------+-----+\n",
       "nm0000198|        51|  7.291971771730861|      122|    1|\n",
       "nm0000354|        58|   6.26905749935267|      106|    2|\n",
       "nm0000362|        47|  6.872262141837611|      108|    2|\n",
       "nm0000767|        47|  7.025115732405378|      105|    3|\n",
       "nm0002222|         2| 0.9981933151503921|        4|    4|\n",
       "nm0003678|         1|0.20547451771110728|        1|    5|\n",
       "+---------+----------+-------------------+---------+-----+\n",
       "only showing top 6 rows\n",
       "\n",
       "</div>"
      ]
     },
     "metadata": {},
     "output_type": "display_data"
    }
   ],
   "source": [
    "df_ActorsRates = df_ActorsRates.select('ActorId', 'qtt_movies', 'pagerank', 'outDegree', 'value') \\\n",
    "                                    .withColumn('value', when(df_ActorsRates.value.isNull(), lit(20)).otherwise(df_ActorsRates.value))\n",
    "df_ActorsRates.cache()\n",
    "df_ActorsRates.show(6)"
   ]
  },
  {
   "cell_type": "code",
   "execution_count": 66,
   "metadata": {},
   "outputs": [
    {
     "data": {
      "text/html": [
       "<style scoped>\n",
       "  .ansiout {\n",
       "    display: block;\n",
       "    unicode-bidi: embed;\n",
       "    white-space: pre-wrap;\n",
       "    word-wrap: break-word;\n",
       "    word-break: break-all;\n",
       "    font-family: \"Source Code Pro\", \"Menlo\", monospace;;\n",
       "    font-size: 13px;\n",
       "    color: #555;\n",
       "    margin-left: 4px;\n",
       "    line-height: 19px;\n",
       "  }\n",
       "</style>\n",
       "<div class=\"ansiout\">Out[70]: DataFrame[tconst: string, nconst: string, averageRating: double, ActorId: string, qtt_movies: int, pagerank: double, outDegree: int, value: int]</div>"
      ]
     },
     "metadata": {},
     "output_type": "display_data"
    }
   ],
   "source": [
    "rdd_base = rdd_network_filter.map(lambda x: (x[0],x[1]))\n",
    "\n",
    "tconst = StructField(\"tconst\",StringType(),True)\n",
    "nconst = StructField(\"nconst\",StringType(),True)\n",
    "df_base= sqlContext.createDataFrame(rdd_base, StructType([tconst, nconst]))\n",
    "\n",
    "DF_aux_1 = df_base.join(df_title_ratings, on=['tconst'] ,how = 'left') \\\n",
    "                       .select(df_base['tconst'], df_base['nconst'], df_title_ratings['averageRating']) \\\n",
    "                       .join(df_ActorsRates,  df_base.nconst == df_ActorsRates.ActorId , how = 'inner')\n",
    "\n",
    "DF_aux_1.cache()"
   ]
  },
  {
   "cell_type": "code",
   "execution_count": 67,
   "metadata": {},
   "outputs": [
    {
     "data": {
      "text/html": [
       "<style scoped>\n",
       "  .ansiout {\n",
       "    display: block;\n",
       "    unicode-bidi: embed;\n",
       "    white-space: pre-wrap;\n",
       "    word-wrap: break-word;\n",
       "    word-break: break-all;\n",
       "    font-family: \"Source Code Pro\", \"Menlo\", monospace;;\n",
       "    font-size: 13px;\n",
       "    color: #555;\n",
       "    margin-left: 4px;\n",
       "    line-height: 19px;\n",
       "  }\n",
       "</style>\n",
       "<div class=\"ansiout\"></div>"
      ]
     },
     "metadata": {},
     "output_type": "display_data"
    }
   ],
   "source": [
    "from pyspark.sql import functions as F\n",
    "DF_aux_1 = DF_aux_1.groupBy('tconst').agg(F.max('averageRating').alias('averageRating'), \n",
    "                                          F.sum('qtt_movies').alias('qtt_movies'), \n",
    "                                          F.avg('pagerank').alias('avg_pagerank'), \n",
    "                                          F.avg('outDegree').alias('avg_outDegree'), \n",
    "                                          F.avg('value').alias('avg_KB_Distance'))"
   ]
  },
  {
   "cell_type": "code",
   "execution_count": 68,
   "metadata": {},
   "outputs": [
    {
     "data": {
      "text/html": [
       "<style scoped>\n",
       "  .ansiout {\n",
       "    display: block;\n",
       "    unicode-bidi: embed;\n",
       "    white-space: pre-wrap;\n",
       "    word-wrap: break-word;\n",
       "    word-break: break-all;\n",
       "    font-family: \"Source Code Pro\", \"Menlo\", monospace;;\n",
       "    font-size: 13px;\n",
       "    color: #555;\n",
       "    margin-left: 4px;\n",
       "    line-height: 19px;\n",
       "  }\n",
       "</style>\n",
       "<div class=\"ansiout\">+---------+----------+-------------------+-------------+---------------+-------------+\n",
       "   tconst|qtt_movies|       avg_pagerank|avg_outDegree|avg_KB_Distance|averageRating|\n",
       "+---------+----------+-------------------+-------------+---------------+-------------+\n",
       "tt0036077|        17|0.16915840003949434|          2.0|            4.0|          7.4|\n",
       "tt0036808|        34|0.38807748292998767|          1.0|            5.0|          5.9|\n",
       "tt0037459|        36| 1.3504494641289115|          3.0|            4.0|          5.6|\n",
       "tt0040483|         1|                0.0|          0.0|           20.0|          5.7|\n",
       "tt0042303|        67| 1.7001478487172963|         15.0|            3.0|          7.0|\n",
       "+---------+----------+-------------------+-------------+---------------+-------------+\n",
       "only showing top 5 rows\n",
       "\n",
       "</div>"
      ]
     },
     "metadata": {},
     "output_type": "display_data"
    }
   ],
   "source": [
    "DF_model = DF_aux_1.withColumn('avg_pagerank', when(DF_aux_1.avg_pagerank.isNull(), lit(0)).otherwise(DF_aux_1.avg_pagerank)) \\\n",
    "                              .withColumn('avg_outDegree', when(DF_aux_1.avg_outDegree.isNull(), lit(0)).otherwise(DF_aux_1.avg_outDegree)) \\\n",
    "                              .select('tconst', 'qtt_movies', 'avg_pagerank', 'avg_outDegree', 'avg_KB_Distance', 'averageRating') \\\n",
    "                              .distinct()\n",
    "\n",
    "DF_model = DF_model.na.drop(subset=[\"averageRating\"])\n",
    "DF_model.cache()\n",
    "DF_model.show(5)"
   ]
  },
  {
   "cell_type": "code",
   "execution_count": 69,
   "metadata": {},
   "outputs": [
    {
     "data": {
      "text/html": [
       "<style scoped>\n",
       "  .ansiout {\n",
       "    display: block;\n",
       "    unicode-bidi: embed;\n",
       "    white-space: pre-wrap;\n",
       "    word-wrap: break-word;\n",
       "    word-break: break-all;\n",
       "    font-family: \"Source Code Pro\", \"Menlo\", monospace;;\n",
       "    font-size: 13px;\n",
       "    color: #555;\n",
       "    margin-left: 4px;\n",
       "    line-height: 19px;\n",
       "  }\n",
       "</style>\n",
       "<div class=\"ansiout\">+---------+----------+-------------------+-------------+---------------+-------------+\n",
       "   tconst|qtt_movies|       avg_pagerank|avg_outDegree|avg_KB_Distance|averageRating|\n",
       "+---------+----------+-------------------+-------------+---------------+-------------+\n",
       "tt0036808|        34|0.38807748292998767|          1.0|            5.0|          5.9|\n",
       "tt0037459|        36| 1.3504494641289115|          3.0|            4.0|          5.6|\n",
       "tt0044770|        20|  1.023272944065177|          3.5|            3.5|          6.6|\n",
       "tt0048006|        79| 1.7447342354032203|         16.0|            3.0|          5.9|\n",
       "tt0049309|        45| 1.8702701327456883|         17.0|            4.0|          6.0|\n",
       "+---------+----------+-------------------+-------------+---------------+-------------+\n",
       "only showing top 5 rows\n",
       "\n",
       "</div>"
      ]
     },
     "metadata": {},
     "output_type": "display_data"
    }
   ],
   "source": [
    "train, test = DF_model.randomSplit([0.7, 0.3], seed = 0)\n",
    "train.show(5)"
   ]
  },
  {
   "cell_type": "code",
   "execution_count": 70,
   "metadata": {},
   "outputs": [
    {
     "data": {
      "text/html": [
       "<style scoped>\n",
       "  .ansiout {\n",
       "    display: block;\n",
       "    unicode-bidi: embed;\n",
       "    white-space: pre-wrap;\n",
       "    word-wrap: break-word;\n",
       "    word-break: break-all;\n",
       "    font-family: \"Source Code Pro\", \"Menlo\", monospace;;\n",
       "    font-size: 13px;\n",
       "    color: #555;\n",
       "    margin-left: 4px;\n",
       "    line-height: 19px;\n",
       "  }\n",
       "</style>\n",
       "<div class=\"ansiout\"></div>"
      ]
     },
     "metadata": {},
     "output_type": "display_data"
    }
   ],
   "source": [
    "from pyspark.sql import Row\n",
    "from pyspark.ml.linalg import Vectors\n",
    "\n",
    "def transData(data):\n",
    "  # Combine columns to a dense vector (excluding the last column)\n",
    "  dataFeaturesRDD = data.rdd.map(lambda r: [Vectors.dense(r[1:-1]),r[-1]])\n",
    "  \n",
    "  # Convert the RDD back to a DataFrame, labelling the columns\n",
    "  featuresDF =  dataFeaturesRDD.toDF(['features','label'])\n",
    "  \n",
    "  return featuresDF"
   ]
  },
  {
   "cell_type": "code",
   "execution_count": 71,
   "metadata": {},
   "outputs": [
    {
     "data": {
      "text/html": [
       "<style scoped>\n",
       "  .ansiout {\n",
       "    display: block;\n",
       "    unicode-bidi: embed;\n",
       "    white-space: pre-wrap;\n",
       "    word-wrap: break-word;\n",
       "    word-break: break-all;\n",
       "    font-family: \"Source Code Pro\", \"Menlo\", monospace;;\n",
       "    font-size: 13px;\n",
       "    color: #555;\n",
       "    margin-left: 4px;\n",
       "    line-height: 19px;\n",
       "  }\n",
       "</style>\n",
       "<div class=\"ansiout\">+--------------------+-----+\n",
       "            features|label|\n",
       "+--------------------+-----+\n",
       "[34.0,0.388077482...|  5.9|\n",
       "[36.0,1.350449464...|  5.6|\n",
       "[20.0,1.023272944...|  6.6|\n",
       "[79.0,1.744734235...|  5.9|\n",
       "+--------------------+-----+\n",
       "only showing top 4 rows\n",
       "\n",
       "</div>"
      ]
     },
     "metadata": {},
     "output_type": "display_data"
    }
   ],
   "source": [
    "train_set = transData(train)\n",
    "test_set = transData(test)\n",
    "train_set.show(4)"
   ]
  },
  {
   "cell_type": "code",
   "execution_count": 72,
   "metadata": {},
   "outputs": [
    {
     "data": {
      "text/html": [
       "<style scoped>\n",
       "  .ansiout {\n",
       "    display: block;\n",
       "    unicode-bidi: embed;\n",
       "    white-space: pre-wrap;\n",
       "    word-wrap: break-word;\n",
       "    word-break: break-all;\n",
       "    font-family: \"Source Code Pro\", \"Menlo\", monospace;;\n",
       "    font-size: 13px;\n",
       "    color: #555;\n",
       "    margin-left: 4px;\n",
       "    line-height: 19px;\n",
       "  }\n",
       "</style>\n",
       "<div class=\"ansiout\"></div>"
      ]
     },
     "metadata": {},
     "output_type": "display_data"
    }
   ],
   "source": [
    "from pyspark.ml.regression import LinearRegression\n",
    "\n",
    "lr = LinearRegression()\n",
    "Model01 = lr.fit(train_set, {lr.regParam:0.3})"
   ]
  },
  {
   "cell_type": "code",
   "execution_count": 73,
   "metadata": {},
   "outputs": [
    {
     "data": {
      "text/html": [
       "<style scoped>\n",
       "  .ansiout {\n",
       "    display: block;\n",
       "    unicode-bidi: embed;\n",
       "    white-space: pre-wrap;\n",
       "    word-wrap: break-word;\n",
       "    word-break: break-all;\n",
       "    font-family: \"Source Code Pro\", \"Menlo\", monospace;;\n",
       "    font-size: 13px;\n",
       "    color: #555;\n",
       "    margin-left: 4px;\n",
       "    line-height: 19px;\n",
       "  }\n",
       "</style>\n",
       "<div class=\"ansiout\">&gt;&gt;&gt;&gt; intercept: 5.8888, beta qtt_movies : 0.0001, beta avg_pagerank : -0.0271, beta avg_outDegree : 0.0022, beta avg_KB_Distance : 0.0099\n",
       "</div>"
      ]
     },
     "metadata": {},
     "output_type": "display_data"
    }
   ],
   "source": [
    "print(\">>>> intercept: %r, beta qtt_movies : %r, beta avg_pagerank : %r, beta avg_outDegree : %r, beta avg_KB_Distance : %r\" % (round(Model01.intercept, 4), round(Model01.coefficients[0], 4), round(Model01.coefficients[1], 4), round(Model01.coefficients[2],4), round(Model01.coefficients[3],4)))"
   ]
  },
  {
   "cell_type": "code",
   "execution_count": 74,
   "metadata": {},
   "outputs": [
    {
     "data": {
      "text/html": [
       "<style scoped>\n",
       "  .ansiout {\n",
       "    display: block;\n",
       "    unicode-bidi: embed;\n",
       "    white-space: pre-wrap;\n",
       "    word-wrap: break-word;\n",
       "    word-break: break-all;\n",
       "    font-family: \"Source Code Pro\", \"Menlo\", monospace;;\n",
       "    font-size: 13px;\n",
       "    color: #555;\n",
       "    margin-left: 4px;\n",
       "    line-height: 19px;\n",
       "  }\n",
       "</style>\n",
       "<div class=\"ansiout\">Model01: RMSE = 1.2731\n",
       "</div>"
      ]
     },
     "metadata": {},
     "output_type": "display_data"
    }
   ],
   "source": [
    "from pyspark.ml.evaluation import RegressionEvaluator\n",
    "\n",
    "pred_test = Model01.transform(test_set)\n",
    "evaluator = RegressionEvaluator(metricName=\"rmse\")\n",
    "RMSE_01 = evaluator.evaluate(pred_test)\n",
    "\n",
    "print(\"Model01: RMSE = \" + str(round(RMSE_01,4)))"
   ]
  },
  {
   "cell_type": "markdown",
   "metadata": {},
   "source": [
    "**Q11 My final answer is :**<br/>\n",
    "**RMSE** = 1.2723 <br/>\n",
    "**Coeficientes** = [ 5.8895, 0.0001, -0.0275, 0.0022, 0.0098 ]"
   ]
  },
  {
   "cell_type": "markdown",
   "metadata": {},
   "source": [
    "**Q12** What score would your model predict for the 1997 movie Titanic and how does this compare to it's actual score."
   ]
  },
  {
   "cell_type": "code",
   "execution_count": 77,
   "metadata": {},
   "outputs": [
    {
     "data": {
      "text/html": [
       "<style scoped>\n",
       "  .ansiout {\n",
       "    display: block;\n",
       "    unicode-bidi: embed;\n",
       "    white-space: pre-wrap;\n",
       "    word-wrap: break-word;\n",
       "    word-break: break-all;\n",
       "    font-family: \"Source Code Pro\", \"Menlo\", monospace;;\n",
       "    font-size: 13px;\n",
       "    color: #555;\n",
       "    margin-left: 4px;\n",
       "    line-height: 19px;\n",
       "  }\n",
       "</style>\n",
       "<div class=\"ansiout\">+---------+---------+------------+-------------+-------+---------+-------+--------------+-------------+\n",
       "   tconst|titleType|primaryTitle|originalTitle|isAdult|startYear|endYear|runtimeMinutes|       genres|\n",
       "+---------+---------+------------+-------------+-------+---------+-------+--------------+-------------+\n",
       "tt0120338|    movie|     Titanic|      Titanic|      0|     1997|     \\N|           194|Drama,Romance|\n",
       "+---------+---------+------------+-------------+-------+---------+-------+--------------+-------------+\n",
       "\n",
       "</div>"
      ]
     },
     "metadata": {},
     "output_type": "display_data"
    }
   ],
   "source": [
    "df_title_basics.filter(df_title_basics.primaryTitle == 'Titanic').filter(df_title_basics.startYear == 1997).filter(df_title_basics.titleType == 'movie').show(5)"
   ]
  },
  {
   "cell_type": "code",
   "execution_count": 78,
   "metadata": {},
   "outputs": [
    {
     "data": {
      "text/html": [
       "<style scoped>\n",
       "  .ansiout {\n",
       "    display: block;\n",
       "    unicode-bidi: embed;\n",
       "    white-space: pre-wrap;\n",
       "    word-wrap: break-word;\n",
       "    word-break: break-all;\n",
       "    font-family: \"Source Code Pro\", \"Menlo\", monospace;;\n",
       "    font-size: 13px;\n",
       "    color: #555;\n",
       "    margin-left: 4px;\n",
       "    line-height: 19px;\n",
       "  }\n",
       "</style>\n",
       "<div class=\"ansiout\">+--------------------+-----+-----------------+\n",
       "            features|label|       prediction|\n",
       "+--------------------+-----+-----------------+\n",
       "[195.0,7.84596472...|  7.8|5.950696458127591|\n",
       "+--------------------+-----+-----------------+\n",
       "\n",
       "</div>"
      ]
     },
     "metadata": {},
     "output_type": "display_data"
    }
   ],
   "source": [
    "Titanic = DF_model.filter(DF_model.tconst == 'tt0120338')\n",
    "Titanic = transData(Titanic)\n",
    "pred_Titanic = Model01.transform(Titanic)\n",
    "pred_Titanic.show()"
   ]
  },
  {
   "cell_type": "markdown",
   "metadata": {},
   "source": [
    "**Q12 My final answer is :**<br/>\n",
    "**Predicted Score** = 5.95 <br/>\n",
    "**Actual Score** = 7.8 <br/>\n",
    "**Error** = 1.85"
   ]
  },
  {
   "cell_type": "markdown",
   "metadata": {},
   "source": [
    "**Q13** Create dummy variables for each of the top 10 movie genres from **Q10**. These variable should have a value of 1 if the movie was rated with that genre and 0 otherwise. For example the 1997 movie Titanic should have a 1 in the dummy variable column for Romance, and a 1 in the dummy variable column for Drama, and 0's in all the other dummy variable columns.\n",
    "\n",
    "*If you were unable to answer Q10 you can just select 10 different genres and construct the same data.*\n",
    "\n",
    "*Note: Question 10 uses the number of votes per genre and not the average votes per genre.*\n",
    "\n",
    "Does adding these variables to the regression improve your results? What is the new RMSE and predicted rating for the 1997 movie Titanic."
   ]
  },
  {
   "cell_type": "code",
   "execution_count": 81,
   "metadata": {},
   "outputs": [
    {
     "data": {
      "text/html": [
       "<style scoped>\n",
       "  .ansiout {\n",
       "    display: block;\n",
       "    unicode-bidi: embed;\n",
       "    white-space: pre-wrap;\n",
       "    word-wrap: break-word;\n",
       "    word-break: break-all;\n",
       "    font-family: \"Source Code Pro\", \"Menlo\", monospace;;\n",
       "    font-size: 13px;\n",
       "    color: #555;\n",
       "    margin-left: 4px;\n",
       "    line-height: 19px;\n",
       "  }\n",
       "</style>\n",
       "<div class=\"ansiout\">+---------+------+---------+------+-----+-----+-------+-------+-------+------+--------+\n",
       "  movieId|Action|Adventure|Comedy|Crime|Drama|Fantasy|Mystery|Romance|Sci-Fi|Thriller|\n",
       "+---------+------+---------+------+-----+-----+-------+-------+-------+------+--------+\n",
       "tt0054289|     0|        1|     0|    0|    1|      0|      0|      1|     0|       0|\n",
       "tt0074792|     0|        0|     0|    1|    1|      0|      0|      0|     0|       1|\n",
       "tt0084598|     1|        1|     0|    0|    0|      0|      0|      0|     0|       0|\n",
       "tt0089167|     0|        0|     1|    0|    0|      0|      0|      0|     0|       0|\n",
       "+---------+------+---------+------+-----+-----+-------+-------+-------+------+--------+\n",
       "only showing top 4 rows\n",
       "\n",
       "</div>"
      ]
     },
     "metadata": {},
     "output_type": "display_data"
    }
   ],
   "source": [
    "rdd_movie_genre = rdd_network_filter.map(lambda x: (x[-1],x[0]))\n",
    "rdd_movie_genre = rdd_movie_genre.map(lambda x : (x[0].split(','), x[1])).map(lambda x: [(y, x[1]) for y in x[0]]).flatMap(lambda x: x)\n",
    "rdd_movie_genre = rdd_movie_genre.map(lambda x : (x[1], x[0]))\n",
    "\n",
    "tconst = StructField(\"movieId\",StringType(),True)\n",
    "genre = StructField(\"genre\",StringType(),True)\n",
    "dummy_movie_genre = sqlContext.createDataFrame(rdd_movie_genre, StructType([tconst, genre])).withColumn(\"genre\", replace(col(\"genre\"), \"\\\\N\"))\n",
    "\n",
    "genre = rdd_individualGenreReviews.map(lambda x: x[0]).take(10)\n",
    "\n",
    "dummy_movie_genre = dummy_movie_genre.filter(dummy_movie_genre.genre.isin(genre)).filter(dummy_movie_genre.genre.isNotNull())\n",
    "\n",
    "dummy_movie_genre = dummy_movie_genre.groupBy(\"movieId\").pivot(\"genre\").agg(F.lit(1)).na.fill(0)\n",
    "dummy_movie_genre.cache()\n",
    "dummy_movie_genre.show(4)"
   ]
  },
  {
   "cell_type": "code",
   "execution_count": 82,
   "metadata": {},
   "outputs": [
    {
     "data": {
      "text/html": [
       "<style scoped>\n",
       "  .ansiout {\n",
       "    display: block;\n",
       "    unicode-bidi: embed;\n",
       "    white-space: pre-wrap;\n",
       "    word-wrap: break-word;\n",
       "    word-break: break-all;\n",
       "    font-family: \"Source Code Pro\", \"Menlo\", monospace;;\n",
       "    font-size: 13px;\n",
       "    color: #555;\n",
       "    margin-left: 4px;\n",
       "    line-height: 19px;\n",
       "  }\n",
       "</style>\n",
       "<div class=\"ansiout\">+---------+----------+-------------------+-------------+---------------+------+---------+------+-----+-----+-------+-------+-------+------+--------+-------------+\n",
       "   tconst|qtt_movies|       avg_pagerank|avg_outDegree|avg_KB_Distance|Action|Adventure|Comedy|Crime|Drama|Fantasy|Mystery|Romance|Sci-Fi|Thriller|averageRating|\n",
       "+---------+----------+-------------------+-------------+---------------+------+---------+------+-----+-----+-------+-------+-------+------+--------+-------------+\n",
       "tt0036077|        17|0.16915840003949434|          2.0|            4.0|     0|        0|     0|    0|    1|      0|      0|      0|     0|       0|          7.4|\n",
       "tt0036808|        34|0.38807748292998767|          1.0|            5.0|     0|        0|     0|    0|    1|      0|      0|      0|     0|       0|          5.9|\n",
       "tt0037459|        36| 1.3504494641289115|          3.0|            4.0|     0|        0|     0|    0|    1|      0|      0|      1|     0|       0|          5.6|\n",
       "tt0040483|         1|                0.0|          0.0|           20.0|     0|        0|     0|    0|    1|      0|      0|      0|     0|       0|          5.7|\n",
       "+---------+----------+-------------------+-------------+---------------+------+---------+------+-----+-----+-------+-------+-------+------+--------+-------------+\n",
       "only showing top 4 rows\n",
       "\n",
       "</div>"
      ]
     },
     "metadata": {},
     "output_type": "display_data"
    }
   ],
   "source": [
    "DF_model_dummy = DF_model.join(dummy_movie_genre, DF_model.tconst == dummy_movie_genre.movieId, how = 'left') \\\n",
    "                              .drop('movieId').na.fill(0) \\\n",
    "                              .select('tconst', 'qtt_movies', 'avg_pagerank', 'avg_outDegree', 'avg_KB_Distance',\n",
    "                                      'Action', 'Adventure', 'Comedy', 'Crime', 'Drama', 'Fantasy', 'Mystery', \n",
    "                                      'Romance', 'Sci-Fi', 'Thriller', 'averageRating')\n",
    "                              \n",
    "DF_model_dummy\n",
    "DF_model_dummy.cache()\n",
    "DF_model_dummy.show(4)"
   ]
  },
  {
   "cell_type": "markdown",
   "metadata": {},
   "source": [
    "**Pipeline**"
   ]
  },
  {
   "cell_type": "code",
   "execution_count": 84,
   "metadata": {},
   "outputs": [
    {
     "data": {
      "text/html": [
       "<style scoped>\n",
       "  .ansiout {\n",
       "    display: block;\n",
       "    unicode-bidi: embed;\n",
       "    white-space: pre-wrap;\n",
       "    word-wrap: break-word;\n",
       "    word-break: break-all;\n",
       "    font-family: \"Source Code Pro\", \"Menlo\", monospace;;\n",
       "    font-size: 13px;\n",
       "    color: #555;\n",
       "    margin-left: 4px;\n",
       "    line-height: 19px;\n",
       "  }\n",
       "</style>\n",
       "<div class=\"ansiout\"></div>"
      ]
     },
     "metadata": {},
     "output_type": "display_data"
    }
   ],
   "source": [
    "from pyspark.ml.feature import VectorAssembler, VectorIndexer\n",
    "from pyspark.ml.tuning import CrossValidator, ParamGridBuilder\n",
    "from pyspark.ml.evaluation import RegressionEvaluator\n",
    "\n",
    "featuresCols = DF_model_dummy.columns\n",
    "featuresCols.remove('averageRating')\n",
    "featuresCols.remove('tconst')\n",
    "\n",
    "vectorAssembler = VectorAssembler(inputCols=featuresCols, outputCol=\"rawFeatures\")\n",
    "vectorIndexer = VectorIndexer(inputCol=\"rawFeatures\", outputCol=\"features\", maxCategories=2)\n",
    "\n",
    "lr = LinearRegression(labelCol=\"averageRating\")\n",
    "\n",
    "evaluator = RegressionEvaluator(metricName=\"rmse\", labelCol=lr.getLabelCol(), predictionCol=lr.getPredictionCol())\n",
    "\n",
    "grid = ParamGridBuilder().addGrid(lr.regParam, [0.01]) \\\n",
    "                                 .addGrid(lr.elasticNetParam, [0.25, 0.75]) \\\n",
    "                                 .addGrid(lr.maxIter, [5]) \\\n",
    "                                 .build()\n",
    "\n",
    "cv = CrossValidator(estimator=lr, evaluator=evaluator, estimatorParamMaps = grid) #,"
   ]
  },
  {
   "cell_type": "code",
   "execution_count": 85,
   "metadata": {},
   "outputs": [
    {
     "data": {
      "text/html": [
       "<style scoped>\n",
       "  .ansiout {\n",
       "    display: block;\n",
       "    unicode-bidi: embed;\n",
       "    white-space: pre-wrap;\n",
       "    word-wrap: break-word;\n",
       "    word-break: break-all;\n",
       "    font-family: \"Source Code Pro\", \"Menlo\", monospace;;\n",
       "    font-size: 13px;\n",
       "    color: #555;\n",
       "    margin-left: 4px;\n",
       "    line-height: 19px;\n",
       "  }\n",
       "</style>\n",
       "<div class=\"ansiout\"></div>"
      ]
     },
     "metadata": {},
     "output_type": "display_data"
    }
   ],
   "source": [
    "from pyspark.ml import Pipeline\n",
    "pipeline = Pipeline(stages=[vectorAssembler, vectorIndexer, cv])"
   ]
  },
  {
   "cell_type": "code",
   "execution_count": 86,
   "metadata": {},
   "outputs": [
    {
     "data": {
      "text/html": [
       "<style scoped>\n",
       "  .ansiout {\n",
       "    display: block;\n",
       "    unicode-bidi: embed;\n",
       "    white-space: pre-wrap;\n",
       "    word-wrap: break-word;\n",
       "    word-break: break-all;\n",
       "    font-family: \"Source Code Pro\", \"Menlo\", monospace;;\n",
       "    font-size: 13px;\n",
       "    color: #555;\n",
       "    margin-left: 4px;\n",
       "    line-height: 19px;\n",
       "  }\n",
       "</style>\n",
       "<div class=\"ansiout\"></div>"
      ]
     },
     "metadata": {},
     "output_type": "display_data"
    }
   ],
   "source": [
    "train_dummy01, test_dummy01 = DF_model_dummy.randomSplit([0.7, 0.3], seed = 0)"
   ]
  },
  {
   "cell_type": "code",
   "execution_count": 87,
   "metadata": {},
   "outputs": [
    {
     "data": {
      "text/html": [
       "<style scoped>\n",
       "  .ansiout {\n",
       "    display: block;\n",
       "    unicode-bidi: embed;\n",
       "    white-space: pre-wrap;\n",
       "    word-wrap: break-word;\n",
       "    word-break: break-all;\n",
       "    font-family: \"Source Code Pro\", \"Menlo\", monospace;;\n",
       "    font-size: 13px;\n",
       "    color: #555;\n",
       "    margin-left: 4px;\n",
       "    line-height: 19px;\n",
       "  }\n",
       "</style>\n",
       "<div class=\"ansiout\">/databricks/spark/python/pyspark/ml/util.py:791: UserWarning: Can not find mlflow. To enable mlflow logging, install MLflow library from PyPi.\n",
       "  warnings.warn(_MLflowInstrumentation._NO_MLFLOW_WARNING)\n",
       "</div>"
      ]
     },
     "metadata": {},
     "output_type": "display_data"
    }
   ],
   "source": [
    "pipelineModel = pipeline.fit(train_dummy01.drop('tconst'))"
   ]
  },
  {
   "cell_type": "code",
   "execution_count": 88,
   "metadata": {},
   "outputs": [
    {
     "data": {
      "text/html": [
       "<style scoped>\n",
       "  .ansiout {\n",
       "    display: block;\n",
       "    unicode-bidi: embed;\n",
       "    white-space: pre-wrap;\n",
       "    word-wrap: break-word;\n",
       "    word-break: break-all;\n",
       "    font-family: \"Source Code Pro\", \"Menlo\", monospace;;\n",
       "    font-size: 13px;\n",
       "    color: #555;\n",
       "    margin-left: 4px;\n",
       "    line-height: 19px;\n",
       "  }\n",
       "</style>\n",
       "<div class=\"ansiout\"></div>"
      ]
     },
     "metadata": {},
     "output_type": "display_data"
    }
   ],
   "source": [
    "predictions = pipelineModel.transform(test_dummy01.drop('tconst'))"
   ]
  },
  {
   "cell_type": "code",
   "execution_count": 89,
   "metadata": {},
   "outputs": [
    {
     "data": {
      "text/html": [
       "<style scoped>\n",
       "  .ansiout {\n",
       "    display: block;\n",
       "    unicode-bidi: embed;\n",
       "    white-space: pre-wrap;\n",
       "    word-wrap: break-word;\n",
       "    word-break: break-all;\n",
       "    font-family: \"Source Code Pro\", \"Menlo\", monospace;;\n",
       "    font-size: 13px;\n",
       "    color: #555;\n",
       "    margin-left: 4px;\n",
       "    line-height: 19px;\n",
       "  }\n",
       "</style>\n",
       "<div class=\"ansiout\">Model03: RMSE = 1.2347\n",
       "</div>"
      ]
     },
     "metadata": {},
     "output_type": "display_data"
    }
   ],
   "source": [
    "evaluator = RegressionEvaluator(metricName=\"rmse\")\n",
    "RMSE_02 = evaluator.evaluate(predictions.selectExpr('features', 'averageRating as label', 'prediction'))\n",
    "print(\"Model03: RMSE = \" + str(round(RMSE_02, 4)))"
   ]
  },
  {
   "cell_type": "code",
   "execution_count": 90,
   "metadata": {},
   "outputs": [
    {
     "data": {
      "text/html": [
       "<style scoped>\n",
       "  .ansiout {\n",
       "    display: block;\n",
       "    unicode-bidi: embed;\n",
       "    white-space: pre-wrap;\n",
       "    word-wrap: break-word;\n",
       "    word-break: break-all;\n",
       "    font-family: \"Source Code Pro\", \"Menlo\", monospace;;\n",
       "    font-size: 13px;\n",
       "    color: #555;\n",
       "    margin-left: 4px;\n",
       "    line-height: 19px;\n",
       "  }\n",
       "</style>\n",
       "<div class=\"ansiout\">+--------------------+-----+-----------------+\n",
       "            features|label|       prediction|\n",
       "+--------------------+-----+-----------------+\n",
       "(14,[0,1,2,3,8,11...|  7.8|6.312599670636648|\n",
       "+--------------------+-----+-----------------+\n",
       "\n",
       "</div>"
      ]
     },
     "metadata": {},
     "output_type": "display_data"
    }
   ],
   "source": [
    "Titanic_dummy = DF_model_dummy.filter(DF_model_dummy.tconst == 'tt0120338')\n",
    "pred_Titanic_dummy = pipelineModel.transform(Titanic_dummy.drop('tconst'))\n",
    "pred_Titanic_dummy.selectExpr('features', 'averageRating as label', 'prediction').show(4)"
   ]
  },
  {
   "cell_type": "markdown",
   "metadata": {},
   "source": [
    "**Q13 My final answer is :**\n",
    "The RMSE had a improvement of 3% from 1.27 to 1.23. For Titanic Predicted Score = 6.3 and Actual Score = 7.8, the error decrease to 1.5"
   ]
  },
  {
   "cell_type": "markdown",
   "metadata": {},
   "source": [
    "**Q14** Improve your model by testing different machine learning algorithms, using hyperparameter tuning on these algorithms, changing the included features. Be careful not to cheat and use test data in the training of your model.\n",
    "\n",
    "*Note: We are not testing your knowledge of different algorithms, we are just testing that you can apply the different tools in the spark toolkit and can compare between them.*\n",
    "\n",
    "What is the RMSE of you final model and what rating does it predict for the 1997 movie Titanic."
   ]
  },
  {
   "cell_type": "code",
   "execution_count": 94,
   "metadata": {},
   "outputs": [
    {
     "data": {
      "text/html": [
       "<style scoped>\n",
       "  .ansiout {\n",
       "    display: block;\n",
       "    unicode-bidi: embed;\n",
       "    white-space: pre-wrap;\n",
       "    word-wrap: break-word;\n",
       "    word-break: break-all;\n",
       "    font-family: \"Source Code Pro\", \"Menlo\", monospace;;\n",
       "    font-size: 13px;\n",
       "    color: #555;\n",
       "    margin-left: 4px;\n",
       "    line-height: 19px;\n",
       "  }\n",
       "</style>\n",
       "<div class=\"ansiout\"></div>"
      ]
     },
     "metadata": {},
     "output_type": "display_data"
    }
   ],
   "source": [
    "rdd_reviews_gt500 = rdd_reviews.filter(lambda x: x[1] > 500)\n",
    "\n",
    "rdd_ratings = df_title_ratings.rdd.map(lambda x : (x[0], x[1]))\n",
    "rdd_movieActors = rdd_network_filter.map(lambda x : (x[0], x[1]))\n",
    "\n",
    "rdd_movieActorRate = rdd_reviews_gt500.join(rdd_ratings).join(rdd_movieActors)\n",
    "rdd_actorRate = rdd_movieActorRate.map(lambda x : (x[1][1], x[1][0][1]))"
   ]
  },
  {
   "cell_type": "code",
   "execution_count": 95,
   "metadata": {},
   "outputs": [
    {
     "data": {
      "text/html": [
       "<style scoped>\n",
       "  .ansiout {\n",
       "    display: block;\n",
       "    unicode-bidi: embed;\n",
       "    white-space: pre-wrap;\n",
       "    word-wrap: break-word;\n",
       "    word-break: break-all;\n",
       "    font-family: \"Source Code Pro\", \"Menlo\", monospace;;\n",
       "    font-size: 13px;\n",
       "    color: #555;\n",
       "    margin-left: 4px;\n",
       "    line-height: 19px;\n",
       "  }\n",
       "</style>\n",
       "<div class=\"ansiout\">Out[170]: [(&#39;nm0637748&#39;, 9.9),\n",
       " (&#39;nm1373275&#39;, 9.5),\n",
       " (&#39;nm1617220&#39;, 9.5),\n",
       " (&#39;nm5584750&#39;, 9.1),\n",
       " (&#39;nm4485694&#39;, 9.1)]</div>"
      ]
     },
     "metadata": {},
     "output_type": "display_data"
    }
   ],
   "source": [
    "rdd_actorsAvgRating = rdd_actorRate.mapValues(lambda x: (x, 1)) \\\n",
    "                                       .reduceByKey(lambda x,y: (x[0]+y[0], x[1]+y[1])) \\\n",
    "                                       .mapValues(lambda x: x[0]/x[1]) \\\n",
    "                                       .sortBy(lambda x: x[1], False)\n",
    "rdd_actorsAvgRating.take(5)"
   ]
  },
  {
   "cell_type": "code",
   "execution_count": 96,
   "metadata": {},
   "outputs": [
    {
     "data": {
      "text/html": [
       "<style scoped>\n",
       "  .ansiout {\n",
       "    display: block;\n",
       "    unicode-bidi: embed;\n",
       "    white-space: pre-wrap;\n",
       "    word-wrap: break-word;\n",
       "    word-break: break-all;\n",
       "    font-family: \"Source Code Pro\", \"Menlo\", monospace;;\n",
       "    font-size: 13px;\n",
       "    color: #555;\n",
       "    margin-left: 4px;\n",
       "    line-height: 19px;\n",
       "  }\n",
       "</style>\n",
       "<div class=\"ansiout\">Out[175]: [(&#39;nm1617220&#39;, 9.5),\n",
       " (&#39;nm4485694&#39;, 9.1),\n",
       " (&#39;nm0654744&#39;, 9.0),\n",
       " (&#39;nm0153973&#39;, 9.0),\n",
       " (&#39;nm0671635&#39;, 9.0),\n",
       " (&#39;nm4468244&#39;, 8.9),\n",
       " (&#39;nm0913307&#39;, 8.9),\n",
       " (&#39;nm0791541&#39;, 8.9),\n",
       " (&#39;nm0033175&#39;, 8.850000000000001),\n",
       " (&#39;nm0620241&#39;, 8.8)]</div>"
      ]
     },
     "metadata": {},
     "output_type": "display_data"
    }
   ],
   "source": [
    "rdd_actors_gt10Movies = rdd_network_count.filter(lambda x: x[1] > 5)\n",
    "rdd_actorsAvgRating_b = rdd_actorsAvgRating.join(rdd_actors_gt10Movies) \\\n",
    "                                                .sortBy(lambda x: x[1][0], False) \\\n",
    "                                                .map(lambda x: (x[0],x[1][0])) \\\n",
    "                                                .filter(lambda x: x[1] > 7)\\\n",
    "\n",
    "\n",
    "rdd_actorsAvgRating_b.take(10)"
   ]
  },
  {
   "cell_type": "code",
   "execution_count": 97,
   "metadata": {},
   "outputs": [
    {
     "data": {
      "text/html": [
       "<style scoped>\n",
       "  .ansiout {\n",
       "    display: block;\n",
       "    unicode-bidi: embed;\n",
       "    white-space: pre-wrap;\n",
       "    word-wrap: break-word;\n",
       "    word-break: break-all;\n",
       "    font-family: \"Source Code Pro\", \"Menlo\", monospace;;\n",
       "    font-size: 13px;\n",
       "    color: #555;\n",
       "    margin-left: 4px;\n",
       "    line-height: 19px;\n",
       "  }\n",
       "</style>\n",
       "<div class=\"ansiout\">Out[176]: [(&#39;tt8959144&#39;, 1), (&#39;tt0315817&#39;, 1), (&#39;tt5543056&#39;, 1), (&#39;tt0282914&#39;, 1)]</div>"
      ]
     },
     "metadata": {},
     "output_type": "display_data"
    }
   ],
   "source": [
    "rdd_aux = rdd_movieActors.map(lambda x : (x[1], x[0]))\\\n",
    "                             .join(rdd_actorsAvgRating_b)\\\n",
    "                             .map(lambda x : (x[1][0], 1))\\\n",
    "                             .reduceByKey(lambda x, y: x + y)\n",
    "rdd_aux.take(4)"
   ]
  },
  {
   "cell_type": "code",
   "execution_count": 98,
   "metadata": {},
   "outputs": [
    {
     "data": {
      "text/html": [
       "<style scoped>\n",
       "  .ansiout {\n",
       "    display: block;\n",
       "    unicode-bidi: embed;\n",
       "    white-space: pre-wrap;\n",
       "    word-wrap: break-word;\n",
       "    word-break: break-all;\n",
       "    font-family: \"Source Code Pro\", \"Menlo\", monospace;;\n",
       "    font-size: 13px;\n",
       "    color: #555;\n",
       "    margin-left: 4px;\n",
       "    line-height: 19px;\n",
       "  }\n",
       "</style>\n",
       "<div class=\"ansiout\">+---------+-------------+\n",
       "  movieId|qttAvgRateGt8|\n",
       "+---------+-------------+\n",
       "tt7961060|            7|\n",
       "tt7994100|            6|\n",
       "tt6419510|            6|\n",
       "tt3689894|            6|\n",
       "+---------+-------------+\n",
       "only showing top 4 rows\n",
       "\n",
       "</div>"
      ]
     },
     "metadata": {},
     "output_type": "display_data"
    }
   ],
   "source": [
    "tconst = StructField(\"movieId\",StringType(),True)\n",
    "qttAvgRateGt8 = StructField(\"qttAvgRateGt8\",IntegerType(),True)\n",
    "df_movieActorsGt8 = sqlContext.createDataFrame(rdd_aux, StructType([tconst, qttAvgRateGt8]))\n",
    "df_movieActorsGt8.sort('qttAvgRateGt8', ascending=False).show(4)"
   ]
  },
  {
   "cell_type": "code",
   "execution_count": 99,
   "metadata": {},
   "outputs": [
    {
     "data": {
      "text/html": [
       "<style scoped>\n",
       "  .ansiout {\n",
       "    display: block;\n",
       "    unicode-bidi: embed;\n",
       "    white-space: pre-wrap;\n",
       "    word-wrap: break-word;\n",
       "    word-break: break-all;\n",
       "    font-family: \"Source Code Pro\", \"Menlo\", monospace;;\n",
       "    font-size: 13px;\n",
       "    color: #555;\n",
       "    margin-left: 4px;\n",
       "    line-height: 19px;\n",
       "  }\n",
       "</style>\n",
       "<div class=\"ansiout\">Out[178]: 35447</div>"
      ]
     },
     "metadata": {},
     "output_type": "display_data"
    }
   ],
   "source": [
    "df_movieActorsGt8.count()"
   ]
  },
  {
   "cell_type": "code",
   "execution_count": 100,
   "metadata": {},
   "outputs": [
    {
     "data": {
      "text/html": [
       "<style scoped>\n",
       "  .ansiout {\n",
       "    display: block;\n",
       "    unicode-bidi: embed;\n",
       "    white-space: pre-wrap;\n",
       "    word-wrap: break-word;\n",
       "    word-break: break-all;\n",
       "    font-family: \"Source Code Pro\", \"Menlo\", monospace;;\n",
       "    font-size: 13px;\n",
       "    color: #555;\n",
       "    margin-left: 4px;\n",
       "    line-height: 19px;\n",
       "  }\n",
       "</style>\n",
       "<div class=\"ansiout\">+---------+----------+-------------------+-------------+---------------+------+---------+------+-----+-----+-------+-------+-------+------+--------+-------------+-------------+\n",
       "   tconst|qtt_movies|       avg_pagerank|avg_outDegree|avg_KB_Distance|Action|Adventure|Comedy|Crime|Drama|Fantasy|Mystery|Romance|Sci-Fi|Thriller|qttAvgRateGt8|averageRating|\n",
       "+---------+----------+-------------------+-------------+---------------+------+---------+------+-----+-----+-------+-------+-------+------+--------+-------------+-------------+\n",
       "tt0036077|        17|0.16915840003949434|          2.0|            4.0|     0|        0|     0|    0|    1|      0|      0|      0|     0|       0|            0|          7.4|\n",
       "tt0036808|        34|0.38807748292998767|          1.0|            5.0|     0|        0|     0|    0|    1|      0|      0|      0|     0|       0|            0|          5.9|\n",
       "tt0037459|        36| 1.3504494641289115|          3.0|            4.0|     0|        0|     0|    0|    1|      0|      0|      1|     0|       0|            0|          5.6|\n",
       "tt0040483|         1|                0.0|          0.0|           20.0|     0|        0|     0|    0|    1|      0|      0|      0|     0|       0|            0|          5.7|\n",
       "tt0042303|        67| 1.7001478487172963|         15.0|            3.0|     0|        0|     0|    0|    1|      0|      0|      0|     0|       0|            0|          7.0|\n",
       "+---------+----------+-------------------+-------------+---------------+------+---------+------+-----+-----+-------+-------+-------+------+--------+-------------+-------------+\n",
       "only showing top 5 rows\n",
       "\n",
       "</div>"
      ]
     },
     "metadata": {},
     "output_type": "display_data"
    }
   ],
   "source": [
    "DF_model_actorsgt8 = DF_model_dummy.join(df_movieActorsGt8, DF_model_dummy.tconst == df_movieActorsGt8.movieId, how = 'left') \\\n",
    "                                        .drop('movieId').na.fill(0) \\\n",
    "                                        .select('tconst', 'qtt_movies', 'avg_pagerank', 'avg_outDegree', 'avg_KB_Distance',\n",
    "                                                'Action', 'Adventure', 'Comedy', 'Crime', 'Drama', 'Fantasy', 'Mystery', \n",
    "                                                'Romance', 'Sci-Fi', 'Thriller','qttAvgRateGt8', 'averageRating')\n",
    "DF_model_actorsgt8.cache()\n",
    "DF_model_actorsgt8.show(5)\n"
   ]
  },
  {
   "cell_type": "code",
   "execution_count": 101,
   "metadata": {},
   "outputs": [
    {
     "data": {
      "text/html": [
       "<style scoped>\n",
       "  .ansiout {\n",
       "    display: block;\n",
       "    unicode-bidi: embed;\n",
       "    white-space: pre-wrap;\n",
       "    word-wrap: break-word;\n",
       "    word-break: break-all;\n",
       "    font-family: \"Source Code Pro\", \"Menlo\", monospace;;\n",
       "    font-size: 13px;\n",
       "    color: #555;\n",
       "    margin-left: 4px;\n",
       "    line-height: 19px;\n",
       "  }\n",
       "</style>\n",
       "<div class=\"ansiout\"></div>"
      ]
     },
     "metadata": {},
     "output_type": "display_data"
    }
   ],
   "source": [
    "from pyspark.ml.regression import RandomForestRegressor\n",
    "\n",
    "featuresCols = DF_model_actorsgt8.columns\n",
    "featuresCols.remove('averageRating')\n",
    "featuresCols.remove('tconst')\n",
    "\n",
    "vectorAssembler = VectorAssembler(inputCols=featuresCols, outputCol=\"rawFeatures\")\n",
    "vectorIndexer = VectorIndexer(inputCol=\"rawFeatures\", outputCol=\"features\", maxCategories=2)\n",
    "\n",
    "rf = RandomForestRegressor(labelCol=\"averageRating\")\n",
    "\n",
    "evaluator = RegressionEvaluator(metricName=\"rmse\", labelCol=rf.getLabelCol(), predictionCol=rf.getPredictionCol())\n",
    "\n",
    "paramGrid = ParamGridBuilder()\\\n",
    "                            .addGrid(rf.maxDepth, [2, 6]) \\\n",
    "                            .build()\n",
    "\n",
    "cv = CrossValidator(estimator=rf, evaluator=evaluator, estimatorParamMaps = grid)\n",
    "\n",
    "pipeline02 = Pipeline(stages=[vectorAssembler, vectorIndexer, cv])"
   ]
  },
  {
   "cell_type": "code",
   "execution_count": 102,
   "metadata": {},
   "outputs": [
    {
     "data": {
      "text/html": [
       "<style scoped>\n",
       "  .ansiout {\n",
       "    display: block;\n",
       "    unicode-bidi: embed;\n",
       "    white-space: pre-wrap;\n",
       "    word-wrap: break-word;\n",
       "    word-break: break-all;\n",
       "    font-family: \"Source Code Pro\", \"Menlo\", monospace;;\n",
       "    font-size: 13px;\n",
       "    color: #555;\n",
       "    margin-left: 4px;\n",
       "    line-height: 19px;\n",
       "  }\n",
       "</style>\n",
       "<div class=\"ansiout\">Model03: RMSE = 1.2204\n",
       "</div>"
      ]
     },
     "metadata": {},
     "output_type": "display_data"
    }
   ],
   "source": [
    "train_actorsgt8, test_actorsgt8 = DF_model_actorsgt8.randomSplit([0.7, 0.3], seed = 0)\n",
    "pipelineModel02 = pipeline02.fit(train_actorsgt8.drop('tconst'))\n",
    "predPipe02 = pipelineModel02.transform(test_actorsgt8.drop('tconst'))\n",
    "evaluator = RegressionEvaluator(metricName=\"rmse\")\n",
    "RMSE_03 = evaluator.evaluate(predPipe02.selectExpr('features', 'averageRating as label', 'prediction'))\n",
    "print(\"Model03: RMSE = \" + str(round(RMSE_03,4)))"
   ]
  },
  {
   "cell_type": "code",
   "execution_count": 103,
   "metadata": {},
   "outputs": [
    {
     "data": {
      "text/html": [
       "<style scoped>\n",
       "  .ansiout {\n",
       "    display: block;\n",
       "    unicode-bidi: embed;\n",
       "    white-space: pre-wrap;\n",
       "    word-wrap: break-word;\n",
       "    word-break: break-all;\n",
       "    font-family: \"Source Code Pro\", \"Menlo\", monospace;;\n",
       "    font-size: 13px;\n",
       "    color: #555;\n",
       "    margin-left: 4px;\n",
       "    line-height: 19px;\n",
       "  }\n",
       "</style>\n",
       "<div class=\"ansiout\">+--------------------+-----+-----------------+\n",
       "            features|label|       prediction|\n",
       "+--------------------+-----+-----------------+\n",
       "(15,[0,1,2,3,8,11...|  7.8|6.486347808934546|\n",
       "+--------------------+-----+-----------------+\n",
       "\n",
       "</div>"
      ]
     },
     "metadata": {},
     "output_type": "display_data"
    }
   ],
   "source": [
    "Titanic_actorsgt8 = DF_model_actorsgt8.filter(DF_model_actorsgt8.tconst == 'tt0120338')\n",
    "pred_Titanic_actorsgt8 = pipelineModel02.transform(Titanic_actorsgt8.drop('tconst'))\n",
    "pred_Titanic_actorsgt8.selectExpr('features', 'averageRating as label', 'prediction').show(4)"
   ]
  },
  {
   "cell_type": "markdown",
   "metadata": {},
   "source": [
    "**Q14 My final answer is :** <br/>\n",
    "RandomForestRegressor was applied achieve this results and a variable with number of actors with Avg Rate 7 or higher.<br/>\n",
    "Predicted Score for Titanic = 6.5 and Actual Score = 7.8 at the end the prediction has a error of 1.3. And almost the same RMSE, with RandomForest Regression RMSE = 1.22')"
   ]
  }
 ],
 "metadata": {
  "kernelspec": {
   "display_name": "Python 3",
   "language": "python",
   "name": "python3"
  },
  "language_info": {
   "codemirror_mode": {
    "name": "ipython",
    "version": 3
   },
   "file_extension": ".py",
   "mimetype": "text/x-python",
   "name": "python",
   "nbconvert_exporter": "python",
   "pygments_lexer": "ipython3",
   "version": "3.7.6"
  },
  "name": "Exam BDA AA 2020 - Student",
  "notebookId": 2649165183251796
 },
 "nbformat": 4,
 "nbformat_minor": 1
}
